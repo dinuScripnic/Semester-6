{
 "cells": [
  {
   "cell_type": "code",
   "execution_count": 1,
   "id": "273ea762-98dc-48d0-9bdb-2bdf81dae51a",
   "metadata": {},
   "outputs": [],
   "source": [
    "import paho.mqtt.client as mqtt #basic mqtt utilities\n",
    "\n",
    "import time #for sleep\n",
    "\n",
    "import random # random\n",
    "\n",
    "import json #for json"
   ]
  },
  {
   "cell_type": "code",
   "execution_count": 2,
   "id": "015146cf-ea1e-46c4-a099-6e0ff237269e",
   "metadata": {},
   "outputs": [],
   "source": [
    "temps=[0,0]"
   ]
  },
  {
   "cell_type": "code",
   "execution_count": 3,
   "id": "909135fa-d7f6-4216-a0fc-3dcf7212f128",
   "metadata": {},
   "outputs": [],
   "source": [
    "def temp_msg(mosq, obj, msg):\n",
    "    print(\"received msg...\")\n",
    "    if(msg.topic.endswith(\"1\")):\n",
    "        temps[0]=msg.payload\n",
    "    if(msg.topic.endswith(\"2\")):\n",
    "        temps[1]=msg.payload\n",
    "    avg_client.publish(\"robotcell1/avgtemperature\",(float(temps[0])+float(temps[1]))/2.)\n",
    "    "
   ]
  },
  {
   "cell_type": "code",
   "execution_count": 4,
   "id": "11fe7001-d361-4f67-8756-57da7e4fa923",
   "metadata": {},
   "outputs": [
    {
     "data": {
      "text/plain": [
       "(0, 1)"
      ]
     },
     "execution_count": 4,
     "metadata": {},
     "output_type": "execute_result"
    },
    {
     "name": "stdout",
     "output_type": "stream",
     "text": [
      "received msg...\n",
      "received msg...\n"
     ]
    }
   ],
   "source": [
    "avg_client=mqtt.Client(client_id=\"mqtt_client_345\",clean_session=True)\n",
    "avg_client.connect(\"localhost\")\n",
    "avg_client.loop_start()\n",
    "avg_client.on_message=temp_msg\n",
    "avg_client.subscribe([(\"robotcell1/temperature1\",0),(\"robotcell1/temperature2\",0)])\n",
    "#avg_client.subscribe(\"robotcell1/temperature1\")"
   ]
  },
  {
   "cell_type": "code",
   "execution_count": 6,
   "id": "b4a3fa20-cf64-4267-92cb-baae13b54aca",
   "metadata": {},
   "outputs": [],
   "source": [
    "avg_client.loop_stop()"
   ]
  }
 ],
 "metadata": {
  "kernelspec": {
   "display_name": "Python 3 (ipykernel)",
   "language": "python",
   "name": "python3"
  },
  "language_info": {
   "codemirror_mode": {
    "name": "ipython",
    "version": 3
   },
   "file_extension": ".py",
   "mimetype": "text/x-python",
   "name": "python",
   "nbconvert_exporter": "python",
   "pygments_lexer": "ipython3",
   "version": "3.8.8"
  }
 },
 "nbformat": 4,
 "nbformat_minor": 5
}
