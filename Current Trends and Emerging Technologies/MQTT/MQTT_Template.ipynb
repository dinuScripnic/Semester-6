{
 "cells": [
  {
   "cell_type": "code",
   "execution_count": null,
   "id": "54930f27-c562-4f16-8584-bd13d1dae3b5",
   "metadata": {},
   "outputs": [],
   "source": [
    "!pip install paho-mqtt==1.6.1"
   ]
  },
  {
   "cell_type": "code",
   "execution_count": 2,
   "id": "d787092e-ecd1-4d99-9962-c689318e6d07",
   "metadata": {},
   "outputs": [],
   "source": [
    "import paho.mqtt.client as mqtt #basic mqtt utilities\n",
    "\n",
    "import time #for sleep\n",
    "\n",
    "import random # random\n",
    "\n",
    "import json #for json"
   ]
  },
  {
   "cell_type": "code",
   "execution_count": null,
   "id": "dffa35da-21ba-4952-94b7-d3d3a600e342",
   "metadata": {},
   "outputs": [],
   "source": []
  }
 ],
 "metadata": {
  "kernelspec": {
   "display_name": "Python 3 (ipykernel)",
   "language": "python",
   "name": "python3"
  },
  "language_info": {
   "codemirror_mode": {
    "name": "ipython",
    "version": 3
   },
   "file_extension": ".py",
   "mimetype": "text/x-python",
   "name": "python",
   "nbconvert_exporter": "python",
   "pygments_lexer": "ipython3",
   "version": "3.11.6"
  }
 },
 "nbformat": 4,
 "nbformat_minor": 5
}
