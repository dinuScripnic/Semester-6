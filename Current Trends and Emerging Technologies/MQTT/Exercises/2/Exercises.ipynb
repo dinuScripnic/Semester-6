{
 "cells": [
  {
   "cell_type": "markdown",
   "metadata": {},
   "source": [
    "# Exercises"
   ]
  },
  {
   "cell_type": "markdown",
   "metadata": {},
   "source": [
    "## In Class Exercise"
   ]
  },
  {
   "cell_type": "markdown",
   "metadata": {},
   "source": [
    "* Find out how you could delete topics and implement it!\n",
    "* Write an MQTT sum function: a MQTT Client that subscribes to two topics and publishes their sums to a separate topic. If the values are not numeric, then,  an error message should be published!\n",
    "\n"
   ]
  },
  {
   "cell_type": "markdown",
   "metadata": {},
   "source": [
    "## A\n",
    "\n",
    "Write a publisher that takes a JSON Object and publishes the content of the JSON to a flatten-out structure.\n",
    "\n",
    "Example\n",
    "\n",
    "`\n",
    "{\n",
    "  temperature:3,\n",
    "  humidity:4,\n",
    "  sensorid:'2dsfe',\n",
    "  manufacturer: {\n",
    "    name:'AGE Electronics',\n",
    "    id:'X4534'\n",
    "  }\n",
    "}`\n",
    "\n",
    "Should lead to the following MQTT structure\n",
    "\n",
    "`\n",
    "temperature=3\n",
    "humidity=4\n",
    "sensorid=\"2dsfe\"\n",
    "manufacturer/name=\"AGE Electronics\"\n",
    "manufacturer/id=\"X4534\"\n",
    "`\n",
    "\n",
    "\n",
    "You don't have to care about lists/arrays,..!\n",
    "\n",
    "\n",
    "Answer the following questions:\n",
    "* What are the benefits/drawbacks of publishing a complete JSON to a specific topic vs publishing every value to a flatten-out structure\n",
    "* Think about an approach to treat lists (no implementation is necessary!)"
   ]
  },
  {
   "cell_type": "markdown",
   "metadata": {},
   "source": [
    "## B\n",
    "\n",
    "Write an MQTT Bridge: A subscriber that subscribes to two topics and keeps them synchron. It should act in a bidirectional manner!\n",
    "\n",
    "Example:\n",
    "all values under `plc/#` should be forwarded to `machine/status/`. However, if somebody else publishes to a topic under  `machine/status/` it should also be forwarded to `plc/#`. To put it simple: the two topcis should always have the same values. Write test-code that demonstrate the correct behviour!\n",
    "\n",
    "Think about the weaknesses of the approach - what could go wrong?\n"
   ]
  }
 ],
 "metadata": {
  "kernelspec": {
   "display_name": "Python 3 (ipykernel)",
   "language": "python",
   "name": "python3"
  },
  "language_info": {
   "codemirror_mode": {
    "name": "ipython",
    "version": 3
   },
   "file_extension": ".py",
   "mimetype": "text/x-python",
   "name": "python",
   "nbconvert_exporter": "python",
   "pygments_lexer": "ipython3",
   "version": "3.8.8"
  }
 },
 "nbformat": 4,
 "nbformat_minor": 4
}
