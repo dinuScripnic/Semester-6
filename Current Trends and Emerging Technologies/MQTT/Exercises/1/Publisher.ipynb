{
 "cells": [
  {
   "cell_type": "markdown",
   "metadata": {},
   "source": [
    "# Install Paho-MQTT"
   ]
  },
  {
   "cell_type": "code",
   "execution_count": 1,
   "metadata": {},
   "outputs": [
    {
     "name": "stdout",
     "output_type": "stream",
     "text": [
      "Requirement already satisfied: paho-mqtt in c:\\users\\benedikt\\anaconda3\\lib\\site-packages (1.6.1)\n"
     ]
    }
   ],
   "source": [
    "! pip install paho-mqtt"
   ]
  },
  {
   "cell_type": "markdown",
   "metadata": {},
   "source": [
    "# Use the Client"
   ]
  },
  {
   "cell_type": "markdown",
   "metadata": {},
   "source": [
    "First, use subscriber `#1` from the subscriber notebook"
   ]
  },
  {
   "cell_type": "code",
   "execution_count": 1,
   "metadata": {},
   "outputs": [],
   "source": [
    "import paho.mqtt.publish as publish"
   ]
  },
  {
   "cell_type": "code",
   "execution_count": 2,
   "metadata": {},
   "outputs": [],
   "source": [
    "topic=\"sensor1/temperature\""
   ]
  },
  {
   "cell_type": "code",
   "execution_count": 3,
   "metadata": {},
   "outputs": [],
   "source": [
    "publish.single(topic,payload=\"4\",qos=0,retain=False)"
   ]
  },
  {
   "cell_type": "markdown",
   "metadata": {},
   "source": [
    "...a retained topic"
   ]
  },
  {
   "cell_type": "code",
   "execution_count": 4,
   "metadata": {},
   "outputs": [],
   "source": [
    "topic_id=\"sensor1/id\""
   ]
  },
  {
   "cell_type": "code",
   "execution_count": 5,
   "metadata": {},
   "outputs": [],
   "source": [
    "publish.single(topic_id,payload=\"Id1234\",qos=0,retain=True)"
   ]
  },
  {
   "cell_type": "markdown",
   "metadata": {},
   "source": [
    "## Publish in a loop QoS 0 Messages"
   ]
  },
  {
   "cell_type": "code",
   "execution_count": 8,
   "metadata": {},
   "outputs": [],
   "source": [
    "import random\n",
    "import time"
   ]
  },
  {
   "cell_type": "code",
   "execution_count": 9,
   "metadata": {},
   "outputs": [
    {
     "name": "stdout",
     "output_type": "stream",
     "text": [
      "Interrrupted...\n"
     ]
    }
   ],
   "source": [
    "while True:\n",
    "    try:\n",
    "        random_number=random.randint(1,101)\n",
    "        publish.single(topic,payload=random_number,qos=0,retain=False)\n",
    "        # do something time-cosnuming\n",
    "        time.sleep(1)\n",
    "    except KeyboardInterrupt:\n",
    "        print(\"Interrrupted...\")\n",
    "        break\n"
   ]
  },
  {
   "cell_type": "markdown",
   "metadata": {},
   "source": [
    "## Publish QoS 1 Message"
   ]
  },
  {
   "cell_type": "markdown",
   "metadata": {},
   "source": [
    "**Now, interrupt the subscriber `#1` and the loop above**"
   ]
  },
  {
   "cell_type": "code",
   "execution_count": 6,
   "metadata": {},
   "outputs": [],
   "source": [
    "publish.single(\"sensor1/humidity\",payload=\"12.91\",qos=1,retain=False)"
   ]
  },
  {
   "cell_type": "markdown",
   "metadata": {},
   "source": [
    "**Secenarios**"
   ]
  },
  {
   "cell_type": "markdown",
   "metadata": {},
   "source": [
    "**1**: Which messages will subscriber `#1` receive when it re-subscribes? Try-it by reconnecting it!"
   ]
  },
  {
   "cell_type": "markdown",
   "metadata": {},
   "source": [
    "**2**: Stop subscriber `#1`. Now, lets use the second subscriber `#2`\n",
    "\n",
    "* Will it receive the `sensor1/humidity` topic? Try it by running the following snippet:\n"
   ]
  },
  {
   "cell_type": "code",
   "execution_count": 8,
   "metadata": {},
   "outputs": [],
   "source": [
    "publish.single(\"sensor1/humidity\",payload=\"23.43\",qos=1,retain=False)"
   ]
  },
  {
   "cell_type": "markdown",
   "metadata": {},
   "source": [
    "\n",
    "* Now lets close the subscriber's connection, republish (run snippet above) and re-connect the subscriber. What messages will it receive now?\n",
    "\n",
    "* Again close the subscriber's connection, publish (run snippet bellow) and re-connect the subscriber. What messages willit receive now?"
   ]
  },
  {
   "cell_type": "code",
   "execution_count": 14,
   "metadata": {},
   "outputs": [],
   "source": [
    "publish.single(\"sensor1/humidity\",payload=\"12.14\",qos=0,retain=False)"
   ]
  },
  {
   "cell_type": "markdown",
   "metadata": {},
   "source": [
    "**Time comparison**"
   ]
  },
  {
   "cell_type": "code",
   "execution_count": 15,
   "metadata": {},
   "outputs": [
    {
     "name": "stdout",
     "output_type": "stream",
     "text": [
      "5.65 ms ± 425 µs per loop (mean ± std. dev. of 7 runs, 100 loops each)\n"
     ]
    }
   ],
   "source": [
    "%%timeit\n",
    "publish.single(\"sensor1/humidity\",payload=\"12.91\",qos=2,retain=False)"
   ]
  },
  {
   "cell_type": "code",
   "execution_count": 16,
   "metadata": {},
   "outputs": [
    {
     "name": "stdout",
     "output_type": "stream",
     "text": [
      "5.24 ms ± 341 µs per loop (mean ± std. dev. of 7 runs, 100 loops each)\n"
     ]
    }
   ],
   "source": [
    "%%timeit\n",
    "publish.single(\"sensor1/humidity\",payload=\"12.91\",qos=1,retain=False)"
   ]
  },
  {
   "cell_type": "code",
   "execution_count": 17,
   "metadata": {},
   "outputs": [
    {
     "name": "stdout",
     "output_type": "stream",
     "text": [
      "4.58 ms ± 262 µs per loop (mean ± std. dev. of 7 runs, 100 loops each)\n"
     ]
    }
   ],
   "source": [
    "%%timeit\n",
    "publish.single(\"sensor1/humidity\",payload=\"12.91\",qos=0,retain=False)"
   ]
  },
  {
   "cell_type": "markdown",
   "metadata": {},
   "source": [
    "# Recap: Publish JSON"
   ]
  },
  {
   "cell_type": "markdown",
   "metadata": {},
   "source": [
    "So far, we published only `raw` data. Now, we publish complete JSON documents...."
   ]
  },
  {
   "cell_type": "code",
   "execution_count": 57,
   "metadata": {},
   "outputs": [],
   "source": [
    "import json"
   ]
  },
  {
   "cell_type": "code",
   "execution_count": 55,
   "metadata": {},
   "outputs": [],
   "source": [
    "example_dictonary={\"temperature\":2, \"humidity\":0.9}"
   ]
  },
  {
   "cell_type": "code",
   "execution_count": 62,
   "metadata": {},
   "outputs": [],
   "source": [
    "publish.single(\"sensor1/humidity\",payload=json.dumps(example_dictonary),qos=1,retain=False)"
   ]
  },
  {
   "cell_type": "markdown",
   "metadata": {},
   "source": [
    "## Discussion: What will be received?"
   ]
  },
  {
   "cell_type": "markdown",
   "metadata": {},
   "source": [
    "Again, disconnect your subscriber `#2` and run the following code"
   ]
  },
  {
   "cell_type": "code",
   "execution_count": 18,
   "metadata": {},
   "outputs": [],
   "source": [
    "publish.single(\"sensor1/humidity\",payload=\"11\",qos=1,retain=True)  #cs\n",
    "publish.single(\"sensor1/humidity\",payload=\"12\",qos=0,retain=True)\n",
    "publish.single(\"sensor1/humidity\",payload=\"13\",qos=1,retain=False) #cs\n",
    "publish.single(\"sensor1/humidity\",payload=\"14\",qos=1,retain=False) #cs\n",
    "publish.single(\"sensor1/humidity\",payload=\"15\",qos=0,retain=True)\n",
    "publish.single(\"sensor1/humidity\",payload=\"16\",qos=0,retain=True)  #retain"
   ]
  },
  {
   "cell_type": "code",
   "execution_count": null,
   "metadata": {},
   "outputs": [],
   "source": [
    "sensor1/humidity b'11'\n",
    "sensor1/humidity b'13'\n",
    "sensor1/humidity b'14'\n",
    "sensor1/humidity b'16'"
   ]
  },
  {
   "cell_type": "markdown",
   "metadata": {},
   "source": [
    "Before re-starting your subscriber: which messages will be received (do not care about the order!)?"
   ]
  }
 ],
 "metadata": {
  "kernelspec": {
   "display_name": "Python 3 (ipykernel)",
   "language": "python",
   "name": "python3"
  },
  "language_info": {
   "codemirror_mode": {
    "name": "ipython",
    "version": 3
   },
   "file_extension": ".py",
   "mimetype": "text/x-python",
   "name": "python",
   "nbconvert_exporter": "python",
   "pygments_lexer": "ipython3",
   "version": "3.8.8"
  }
 },
 "nbformat": 4,
 "nbformat_minor": 4
}
