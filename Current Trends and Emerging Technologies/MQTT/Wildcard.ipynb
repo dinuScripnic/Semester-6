{
 "cells": [
  {
   "cell_type": "markdown",
   "id": "16ee067b-f4b6-40c8-8352-461029a09b8a",
   "metadata": {},
   "source": [
    "# Wildcard"
   ]
  },
  {
   "cell_type": "code",
   "execution_count": 1,
   "id": "35d4930a-e547-461f-b677-4a2359c49428",
   "metadata": {},
   "outputs": [],
   "source": [
    "import paho.mqtt.client as mqtt #basic mqtt utilities"
   ]
  },
  {
   "cell_type": "code",
   "execution_count": 2,
   "id": "0d235409-cb90-441f-90b0-14d773c228a6",
   "metadata": {},
   "outputs": [],
   "source": [
    "client=mqtt.Client(\"MyClientSubscriber\")"
   ]
  },
  {
   "cell_type": "code",
   "execution_count": 3,
   "id": "0859b987-287f-4b37-a31a-e39bb88626ac",
   "metadata": {},
   "outputs": [
    {
     "data": {
      "text/plain": [
       "0"
      ]
     },
     "execution_count": 3,
     "metadata": {},
     "output_type": "execute_result"
    }
   ],
   "source": [
    "client.connect(\"localhost\")"
   ]
  },
  {
   "cell_type": "code",
   "execution_count": 4,
   "id": "14fb3e0c-e024-40a3-933f-5d8431659f28",
   "metadata": {
    "tags": []
   },
   "outputs": [],
   "source": [
    "def my_on_message(client,user_data,new_msg):\n",
    "    print(\"message received! \"  + new_msg.topic)"
   ]
  },
  {
   "cell_type": "code",
   "execution_count": 5,
   "id": "81b19350-8b52-4195-b34f-27cbe8341ac9",
   "metadata": {
    "tags": []
   },
   "outputs": [
    {
     "data": {
      "text/plain": [
       "(0, 1)"
      ]
     },
     "execution_count": 5,
     "metadata": {},
     "output_type": "execute_result"
    }
   ],
   "source": [
    "client.on_message=my_on_message\n",
    "client.subscribe(\"sensor1/+/#\")"
   ]
  },
  {
   "cell_type": "code",
   "execution_count": 6,
   "id": "349145a0-ffde-415f-8c93-327f7b02f150",
   "metadata": {},
   "outputs": [
    {
     "name": "stdout",
     "output_type": "stream",
     "text": [
      "message received! sensor1/id/myId\n"
     ]
    }
   ],
   "source": [
    "client.loop_start()"
   ]
  },
  {
   "cell_type": "code",
   "execution_count": 7,
   "id": "84909eb4-8407-44be-84a9-2a71c49a465c",
   "metadata": {},
   "outputs": [],
   "source": [
    "#client.loop_stop()"
   ]
  },
  {
   "cell_type": "code",
   "execution_count": 8,
   "id": "6c557281-38f8-47a6-bf88-4783586826b5",
   "metadata": {},
   "outputs": [],
   "source": [
    "publishing_client=mqtt.Client(\"MyClientPublisher\")"
   ]
  },
  {
   "cell_type": "code",
   "execution_count": 9,
   "id": "db7af7d0-a915-437d-9641-7ec12eeb8c67",
   "metadata": {},
   "outputs": [
    {
     "data": {
      "text/plain": [
       "0"
      ]
     },
     "execution_count": 9,
     "metadata": {},
     "output_type": "execute_result"
    }
   ],
   "source": [
    "publishing_client.connect(\"localhost\")"
   ]
  },
  {
   "cell_type": "code",
   "execution_count": 10,
   "id": "1a1afb3f-ad18-4b9a-8daa-de1f5e77f11d",
   "metadata": {},
   "outputs": [],
   "source": [
    "publishing_client.loop_start()"
   ]
  },
  {
   "cell_type": "code",
   "execution_count": 11,
   "id": "43207dbc-08a4-47d7-a8e0-2e90653a5928",
   "metadata": {},
   "outputs": [
    {
     "data": {
      "text/plain": [
       "<paho.mqtt.client.MQTTMessageInfo at 0x7f1a8790f7e0>"
      ]
     },
     "execution_count": 11,
     "metadata": {},
     "output_type": "execute_result"
    }
   ],
   "source": [
    "publishing_client.publish(\"sensor1\",\"test7\",retain=False)"
   ]
  },
  {
   "cell_type": "code",
   "execution_count": 12,
   "id": "48890979-3f55-47a1-8fe8-942213f270ea",
   "metadata": {},
   "outputs": [
    {
     "data": {
      "text/plain": [
       "<paho.mqtt.client.MQTTMessageInfo at 0x7f1a6e74fb50>"
      ]
     },
     "execution_count": 12,
     "metadata": {},
     "output_type": "execute_result"
    }
   ],
   "source": [
    "publishing_client.publish(\"sensor1/id/myId\",\"hello\",retain=True)"
   ]
  }
 ],
 "metadata": {
  "kernelspec": {
   "display_name": "Python 3 (ipykernel)",
   "language": "python",
   "name": "python3"
  },
  "language_info": {
   "codemirror_mode": {
    "name": "ipython",
    "version": 3
   },
   "file_extension": ".py",
   "mimetype": "text/x-python",
   "name": "python",
   "nbconvert_exporter": "python",
   "pygments_lexer": "ipython3",
   "version": "3.11.6"
  }
 },
 "nbformat": 4,
 "nbformat_minor": 5
}
