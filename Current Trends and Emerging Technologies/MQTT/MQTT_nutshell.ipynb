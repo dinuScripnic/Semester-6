{
 "cells": [
  {
   "cell_type": "markdown",
   "id": "14806b21-a83a-4119-a142-50c47dfe6614",
   "metadata": {},
   "source": [
    "# MQTT in a Nutshell\n",
    "\n",
    "A self-containing notebook - no other notebook needs to be started\n",
    "\n",
    "Illustrates the basic concepts of MQTT\n",
    "\n",
    "\n",
    "**Discussion**: What is the difference between a database and a message broker?\n"
   ]
  },
  {
   "cell_type": "markdown",
   "id": "20438fa7-9423-4451-8b69-eb16cb06eaf2",
   "metadata": {},
   "source": [
    "Install paho"
   ]
  },
  {
   "cell_type": "code",
   "execution_count": 22,
   "id": "7ff0a005-dc27-4e52-8461-d64be3f99939",
   "metadata": {},
   "outputs": [],
   "source": [
    "import paho.mqtt.client as mqtt #basic mqtt utilities\n",
    "\n",
    "import time #for sleep\n",
    "\n",
    "import random # random\n",
    "\n",
    "import json #for json\n",
    "\n",
    "from random import randint "
   ]
  },
  {
   "cell_type": "markdown",
   "id": "456a21f5-65da-447c-914a-f7e0a7a90d08",
   "metadata": {},
   "source": [
    "The library is not perfect: look at https://pypi.org/project/paho-mqtt/ - Known Issues"
   ]
  },
  {
   "cell_type": "code",
   "execution_count": 23,
   "id": "e1fce242-9edc-42de-9913-438a4e69fe5c",
   "metadata": {},
   "outputs": [],
   "source": [
    "#contains all messages that are received for debugging purposes\n",
    "all_messages=[]"
   ]
  },
  {
   "cell_type": "markdown",
   "id": "25af9061-3497-482c-ad0d-ab588d2c48d3",
   "metadata": {},
   "source": [
    "IP of the broker"
   ]
  },
  {
   "cell_type": "code",
   "execution_count": 24,
   "id": "e86e9533-d6c8-422a-8030-efa23084e343",
   "metadata": {},
   "outputs": [],
   "source": [
    "mqtt_broker_ip=\"127.0.0.1\""
   ]
  },
  {
   "cell_type": "code",
   "execution_count": 25,
   "id": "9a417508-ccd0-49e3-a1ad-04e142192da3",
   "metadata": {},
   "outputs": [],
   "source": [
    "mqtt_broker_port=1883 #default mqtt broker port"
   ]
  },
  {
   "cell_type": "markdown",
   "id": "62c42ebb-48ee-4ba7-9687-fa75d2eea9bb",
   "metadata": {},
   "source": [
    "**Publish and Subscribe**\n",
    "\n",
    "Create some clients (need not to run on the same machine!). Each client can publish and subscribe."
   ]
  },
  {
   "cell_type": "code",
   "execution_count": 26,
   "id": "b0a7b4ea-ad1b-4af2-ac7d-68e6bc0cc28a",
   "metadata": {},
   "outputs": [
    {
     "data": {
      "text/plain": [
       "[272, 129, 45]"
      ]
     },
     "execution_count": 26,
     "metadata": {},
     "output_type": "execute_result"
    }
   ],
   "source": [
    "client_ids=random.sample(range(1, 300), 3)\n",
    "client_ids"
   ]
  },
  {
   "cell_type": "code",
   "execution_count": 27,
   "id": "104dc042-db19-4179-9020-b71612cba057",
   "metadata": {},
   "outputs": [],
   "source": [
    "mqtt_client_1=mqtt.Client(client_id=\"myClient-\"+ str(client_ids[0]), clean_session=True, userdata=\"Client 1\", protocol=mqtt.MQTTv311, transport=\"tcp\")\n",
    "#transport: alternative websockets, userdata: user defined data of any type that is passed as the userdata parameter to callbacks"
   ]
  },
  {
   "cell_type": "code",
   "execution_count": 28,
   "id": "158799d7-2478-40df-9fb4-b2f3dd6d2baf",
   "metadata": {},
   "outputs": [],
   "source": [
    "mqtt_client_2=mqtt.Client(client_id=\"myClient2-\"+ str(client_ids[1]), clean_session=True, userdata=\"Client 2\", protocol=mqtt.MQTTv311, transport=\"tcp\") "
   ]
  },
  {
   "cell_type": "code",
   "execution_count": 29,
   "id": "3a1ab25e-3290-4c65-8130-297e67408614",
   "metadata": {},
   "outputs": [],
   "source": [
    "mqtt_client_3=mqtt.Client(client_id=\"myClient3-\"+ str(client_ids[2]), clean_session=True, userdata=\"Client 3\", protocol=mqtt.MQTTv311, transport=\"tcp\") "
   ]
  },
  {
   "cell_type": "code",
   "execution_count": 30,
   "id": "6d64e161-5b28-46ed-8192-11fc8b7ba3d1",
   "metadata": {},
   "outputs": [
    {
     "data": {
      "text/plain": [
       "0"
      ]
     },
     "execution_count": 30,
     "metadata": {},
     "output_type": "execute_result"
    }
   ],
   "source": [
    "mqtt_client_1.connect(mqtt_broker_ip, port=mqtt_broker_port, keepalive=60*4) \n",
    "#keepalive indicates when the broker is disconnected from the broker- PINGREQ/PINGRES are used to check connectivity\n",
    "mqtt_client_2.connect(mqtt_broker_ip, port=mqtt_broker_port, keepalive=60*4)\n",
    "mqtt_client_3.connect(mqtt_broker_ip, port=mqtt_broker_port, keepalive=60*4)"
   ]
  },
  {
   "cell_type": "code",
   "execution_count": 31,
   "id": "a775433c-00ff-471d-9119-973095e6f8c1",
   "metadata": {},
   "outputs": [],
   "source": [
    "# # example: publish values in 1-second intervals\n",
    "# while(True):\n",
    "#     mqtt_client_1.publish(\"robotcell1/temperature\", random.random()*100)  #publish random values\n",
    "#     time.sleep(2) #wait to seconds"
   ]
  },
  {
   "cell_type": "code",
   "execution_count": 32,
   "id": "e5afe113-7f0a-4c64-ac2a-2f96c38a6c9b",
   "metadata": {},
   "outputs": [
    {
     "data": {
      "text/plain": [
       "<paho.mqtt.client.MQTTMessageInfo at 0x7fceb6f95da0>"
      ]
     },
     "execution_count": 32,
     "metadata": {},
     "output_type": "execute_result"
    }
   ],
   "source": [
    "mqtt_client_1.publish(\"robotcell1/temperature\", payload=3, qos=0) #qoc: quality of service, 0 means at most once, 1 means at least once, 2 means exactly once"
   ]
  },
  {
   "cell_type": "markdown",
   "id": "ad91e9ce-7d92-4cd6-8380-7c3e01be54e6",
   "metadata": {},
   "source": [
    "**Back to Slides: to discuss QoS**"
   ]
  },
  {
   "cell_type": "code",
   "execution_count": 33,
   "id": "a2fbd731-fafb-4aa4-b89a-2d1d755a0a4b",
   "metadata": {},
   "outputs": [
    {
     "data": {
      "text/plain": [
       "<paho.mqtt.client.MQTTMessageInfo at 0x7fceb6f96ac0>"
      ]
     },
     "execution_count": 33,
     "metadata": {},
     "output_type": "execute_result"
    }
   ],
   "source": [
    "mqtt_client_1.publish(\"robotcell1/temperature\", payload=4, qos=1)"
   ]
  },
  {
   "cell_type": "code",
   "execution_count": 34,
   "id": "ec37414b-9e15-441e-afda-e851d262e0fe",
   "metadata": {},
   "outputs": [],
   "source": [
    "#will not work\n",
    "msg=mqtt_client_1.publish(\"robotcell1/temperature\", payload=19, qos=2)"
   ]
  },
  {
   "cell_type": "code",
   "execution_count": 35,
   "id": "2add7b11-1012-4b5f-9347-50161c3e3427",
   "metadata": {},
   "outputs": [],
   "source": [
    "mqtt_client_1.loop_start()  #starts a loop in a thread\n",
    "msg=mqtt_client_1.publish(\"robotcell1/temperature\", payload=19, qos=2)"
   ]
  },
  {
   "cell_type": "code",
   "execution_count": 36,
   "id": "87559a10-1681-4a2f-8674-7ce3446f571e",
   "metadata": {},
   "outputs": [
    {
     "data": {
      "text/plain": [
       "False"
      ]
     },
     "execution_count": 36,
     "metadata": {},
     "output_type": "execute_result"
    }
   ],
   "source": [
    "msg.is_published()"
   ]
  },
  {
   "cell_type": "code",
   "execution_count": 37,
   "id": "f226347b-4891-4edf-8812-371818241d9b",
   "metadata": {},
   "outputs": [],
   "source": [
    "#mqtt_client_1.loop_stop()"
   ]
  },
  {
   "cell_type": "markdown",
   "id": "083095f9-4200-4b57-a778-522540c57ea6",
   "metadata": {},
   "source": [
    "Why is loop requiered here?\n",
    "\n",
    "-> To handle the extra packets needed for high QoS"
   ]
  },
  {
   "cell_type": "markdown",
   "id": "2b00bbe7-8b6d-4a84-9cd4-2282d49fce89",
   "metadata": {},
   "source": [
    "## Payload"
   ]
  },
  {
   "cell_type": "markdown",
   "id": "21cf2b6f-bccb-40b0-b073-1986874adbf5",
   "metadata": {},
   "source": [
    "MQTT makes no constraints regarding the payload - so JSON, XML as well as raw values are allowed!"
   ]
  },
  {
   "cell_type": "code",
   "execution_count": 38,
   "id": "049020ac-b85d-40e2-b10d-b9708718f3ee",
   "metadata": {},
   "outputs": [
    {
     "data": {
      "text/plain": [
       "<paho.mqtt.client.MQTTMessageInfo at 0x7fced0601df0>"
      ]
     },
     "execution_count": 38,
     "metadata": {},
     "output_type": "execute_result"
    }
   ],
   "source": [
    "mqtt_client_1.publish(\"robotcell1/temperature\", payload=3, qos=0)"
   ]
  },
  {
   "cell_type": "code",
   "execution_count": 39,
   "id": "da1fe89a-0749-42b0-8c06-c2eb9200de6f",
   "metadata": {},
   "outputs": [
    {
     "data": {
      "text/plain": [
       "<paho.mqtt.client.MQTTMessageInfo at 0x7fced063b010>"
      ]
     },
     "execution_count": 39,
     "metadata": {},
     "output_type": "execute_result"
    }
   ],
   "source": [
    "#create dict\n",
    "payload ={ \n",
    "  \"temperatur\":3,\n",
    "  \"type\":\"robot front\"\n",
    "} \n",
    "      \n",
    "# Serializing json  \n",
    "json_object = json.dumps(payload, indent = 4) \n",
    "\n",
    "mqtt_client_1.publish(\"robotcell1/temperature\", payload=json_object, qos=0)"
   ]
  },
  {
   "cell_type": "markdown",
   "id": "20d5f60a-3bcf-46a8-94a5-e3bfe53d88a1",
   "metadata": {},
   "source": [
    "## Subscribe"
   ]
  },
  {
   "cell_type": "code",
   "execution_count": 40,
   "id": "99b63a31-3da4-4cae-9754-682f4eebab18",
   "metadata": {
    "tags": []
   },
   "outputs": [],
   "source": [
    "def on_message(client, userdata, msg):\n",
    "    print(\"Client \" + str(userdata) + \" \" + msg.topic + \" \" + str(msg.qos) + \" \" + str(msg.payload) + \" retained: \" + str(msg.retain))\n",
    "    \n",
    "    #append to list of all messages\n",
    "    all_messages.append(msg)"
   ]
  },
  {
   "cell_type": "code",
   "execution_count": 41,
   "id": "5f43bc2f-5a1e-47f3-ab40-4e3291656b2b",
   "metadata": {},
   "outputs": [],
   "source": [
    "mqtt_client_2.connect(mqtt_broker_ip, port=mqtt_broker_port, keepalive=60*4)\n",
    "mqtt_client_2.loop_start()\n",
    "\n",
    "### alternative to loop_start()\n",
    "#import threading\n",
    "\n",
    "#subscribe_thread=threading.Thread(target=mqtt_client_2.loop_forever)  # loop_forever is blocking!\n",
    "#subscribe_thread.start()\n",
    "mqtt_client_2.on_message=on_message #register callback"
   ]
  },
  {
   "cell_type": "code",
   "execution_count": 42,
   "id": "b976cdee-0243-4d01-bf0d-322211a8b7da",
   "metadata": {
    "tags": []
   },
   "outputs": [
    {
     "data": {
      "text/plain": [
       "(0, 1)"
      ]
     },
     "execution_count": 42,
     "metadata": {},
     "output_type": "execute_result"
    }
   ],
   "source": [
    "mqtt_client_2.subscribe(\"robotcell1/temperature\", qos=0) #subscribe to topic"
   ]
  },
  {
   "cell_type": "code",
   "execution_count": 43,
   "id": "24b71cf9-b913-4d69-9f1a-39f88c91da9a",
   "metadata": {
    "tags": []
   },
   "outputs": [],
   "source": [
    "#mqtt_client_2.loop_stop()"
   ]
  },
  {
   "cell_type": "code",
   "execution_count": 44,
   "id": "d4f4cf0b-9673-4d51-b899-214d3342bb2c",
   "metadata": {},
   "outputs": [
    {
     "data": {
      "text/plain": [
       "(0, 1)"
      ]
     },
     "execution_count": 44,
     "metadata": {},
     "output_type": "execute_result"
    }
   ],
   "source": [
    "mqtt_client_3.connect(mqtt_broker_ip, port=mqtt_broker_port, keepalive=60*4)\n",
    "mqtt_client_3.loop_start()\n",
    "mqtt_client_3.on_message=on_message \n",
    "mqtt_client_3.subscribe(\"robotcell1/temperature\", qos=0) #subscribe to topic\n"
   ]
  },
  {
   "cell_type": "code",
   "execution_count": 45,
   "id": "8e3a7477-0b9e-4095-a62b-9ef782e204d8",
   "metadata": {},
   "outputs": [],
   "source": [
    "#mqtt_client_3.publish(\"robotcell1/temperature\",payload=5,qos=0)"
   ]
  },
  {
   "cell_type": "code",
   "execution_count": 46,
   "id": "206442d0-7a72-46d6-83ee-6d5ae252c78d",
   "metadata": {},
   "outputs": [],
   "source": [
    "#mqtt_client_3.loop_stop()"
   ]
  },
  {
   "cell_type": "markdown",
   "id": "7d59706d-997f-4fa1-b2c0-a548cda4a2a3",
   "metadata": {},
   "source": [
    "Now, parse the content as JSON"
   ]
  },
  {
   "cell_type": "code",
   "execution_count": 47,
   "id": "7ff0211d-8bf7-42b7-89f7-4909a37e04c8",
   "metadata": {},
   "outputs": [],
   "source": [
    "#def on_message_json(client, obj, msg):\n",
    "#    print(msg.topic + \" \" + str(msg.qos) + \" \" + str(json.loads(msg.payload)))"
   ]
  },
  {
   "cell_type": "code",
   "execution_count": 48,
   "id": "ec703e70-ad5d-4dc7-ba4b-6c36b6e32f17",
   "metadata": {},
   "outputs": [],
   "source": [
    "#mqtt_client_2.on_message=on_message_json #register callback"
   ]
  },
  {
   "cell_type": "code",
   "execution_count": 49,
   "id": "aca31430-bb8a-449c-9e12-c64a721ff84c",
   "metadata": {},
   "outputs": [],
   "source": [
    "# mqtt_client_2.loop_forever()"
   ]
  },
  {
   "cell_type": "markdown",
   "id": "6991eaf5-ca8a-467c-93db-6583dd3679a3",
   "metadata": {},
   "source": [
    "# In-Class Exercise"
   ]
  },
  {
   "cell_type": "markdown",
   "id": "14c3ff47-b961-41ec-8987-5ffb95e5fe6f",
   "metadata": {},
   "source": [
    "Assume the following structure in MQTT:\n",
    "\n",
    "\n",
    "`robotcell1/temperature1=21`\n",
    "\n",
    "`robotcell1/temperature2=26`\n",
    "\n",
    "\n",
    "Simply create it in the broker by publishing to those topics.\n",
    "\n",
    "\n",
    "Create a client, that subscribes to them and publishes the average to `robotcell1/avgtemperature`\n"
   ]
  },
  {
   "cell_type": "markdown",
   "id": "062a2cb6-14f8-4d1c-a363-05492c828700",
   "metadata": {
    "jp-MarkdownHeadingCollapsed": true,
    "tags": []
   },
   "source": [
    "# Wildcards (already discussed)"
   ]
  },
  {
   "cell_type": "code",
   "execution_count": 50,
   "id": "2ea8a339-38bb-4685-9fea-82cb208b4ace",
   "metadata": {},
   "outputs": [
    {
     "data": {
      "text/plain": [
       "(0, 2)"
      ]
     },
     "execution_count": 50,
     "metadata": {},
     "output_type": "execute_result"
    }
   ],
   "source": [
    "#mqtt_client_2.loop_stop()\n",
    "\n",
    "mqtt_client_2.subscribe(\"robotcell1/#\", qos=0) #subscribe to topic\n",
    "\n",
    "#mqtt_client_2.loop_start()\n",
    "#mqtt_client_2.loop_stop()"
   ]
  },
  {
   "cell_type": "code",
   "execution_count": 51,
   "id": "638be039-e419-4455-b91f-1e3afc9925e3",
   "metadata": {},
   "outputs": [
    {
     "data": {
      "text/plain": [
       "3"
      ]
     },
     "execution_count": 51,
     "metadata": {},
     "output_type": "execute_result"
    }
   ],
   "source": [
    "mqtt_client_2.unsubscribe(\"robotcell1/#\")\n",
    "mqtt_client_2.subscribe(\"robotcell1/+\", qos=0) #subscribe to topic\n",
    "mqtt_client_2.loop_start()"
   ]
  },
  {
   "cell_type": "code",
   "execution_count": 52,
   "id": "13e970ff-38ce-4852-9c77-64a6fdbe90b6",
   "metadata": {},
   "outputs": [],
   "source": [
    "mqtt_client_2.loop_stop()"
   ]
  },
  {
   "cell_type": "code",
   "execution_count": 53,
   "id": "45b15f98-ee06-4690-ba0c-c8dd67f37828",
   "metadata": {},
   "outputs": [
    {
     "data": {
      "text/plain": [
       "(0, 5)"
      ]
     },
     "execution_count": 53,
     "metadata": {},
     "output_type": "execute_result"
    }
   ],
   "source": [
    "mqtt_client_2.subscribe(\"robotcell1/+/int/+\", qos=0) #subscribe to topic"
   ]
  },
  {
   "cell_type": "code",
   "execution_count": 54,
   "id": "a1b98be4-3027-4988-8ff1-bae1992b13ad",
   "metadata": {},
   "outputs": [],
   "source": [
    "mqtt_client_2.loop_start()"
   ]
  },
  {
   "cell_type": "markdown",
   "id": "078217db-d292-4290-878c-ba18b71408ba",
   "metadata": {},
   "source": [
    "# In-Class Exercise"
   ]
  },
  {
   "cell_type": "markdown",
   "id": "161243f2-d2fb-40c3-a128-44d59ff4c017",
   "metadata": {},
   "source": [
    "Create three clients (for three system components) that represent system components pushing cylinders. Cylinder 2 gets active after Cylinder 1 is in position, Cylinder 3 gest active after Cylinder 2 is in position.\n",
    "\n",
    "Each Cylinder is represented by a topic\n",
    "\n",
    "**Start Topics**:\n",
    "    \n",
    "`systemcomponent1/cylinderOn=False`\n",
    "\n",
    "`systemcomponent2/cylinderOn=False`\n",
    "\n",
    "`systemcomponent3/cylinderOn=False`\n",
    "\n",
    "\n",
    "* The second system components should subscribe to the `cylinderOn` topic of the first system component and set the value of topic `systemcomponent2/cylinderOn=True` if  `systemcomponent1/cylinderOn=True`\n",
    "* The thrid system component should subscribe to the `cylinderOn` topic of the second system component and set the value of topic `systemcomponent3/cylinderOn=True` if  `systemcomponent2/cylinderOn=True`\n",
    "* The first system component should subscribe to the `cylinderOn` topic of the third system component and set the value of topic `systemcomponent1/cylinderOn=False` if  `systemcomponent3/cylinderOn=True`.\n",
    "\n",
    "In order to test the setup, simply publish `True` to `systemcomponent1/cylinderOn`: then the value of the first cylinder should become False, while the other values should become True.\n",
    "\n"
   ]
  },
  {
   "cell_type": "markdown",
   "id": "3a6b89ed-7522-40ba-8ec6-982c5778dadb",
   "metadata": {},
   "source": [
    "### Back to the slides"
   ]
  },
  {
   "cell_type": "markdown",
   "id": "1b567d3d-06c2-40e3-b05c-29ae2daefd57",
   "metadata": {},
   "source": [
    "# Retained vs Non-Retained"
   ]
  },
  {
   "cell_type": "code",
   "execution_count": 55,
   "id": "46783020-6016-4ded-8319-86f840fd979d",
   "metadata": {},
   "outputs": [
    {
     "data": {
      "text/plain": [
       "<paho.mqtt.client.MQTTMessageInfo at 0x7fcecc4c2980>"
      ]
     },
     "execution_count": 55,
     "metadata": {},
     "output_type": "execute_result"
    },
    {
     "name": "stdout",
     "output_type": "stream",
     "text": [
      "Client Client 3 robotcell1/temperature 0 b'2' retained: 0\n",
      "Client Client 3 robotcell1/temperature 0 b'75' retained: 0\n"
     ]
    },
    {
     "name": "stdout",
     "output_type": "stream",
     "text": [
      "Client Client 2 robotcell1/temperature 0 b'2' retained: 0\n",
      "Client Client 2 robotcell1/temperature 0 b'75' retained: 0\n",
      "Client Client 2 robotcell1/joints 0 b'{\"joint0\": 10, \"joint1\": 42, \"joint2\": 53, \"joint3\": 64, \"joint4\": 8, \"joint5\": 22}' retained: 0\n",
      "Client Client 2 robotcell1/temperature 0 b'76' retained: 0\n",
      "Client Client 2 robotcell1/temperature 0 b'39' retained: 0\n",
      "Client Client 2 robotcell1/temperature 0 b'77' retained: 0\n",
      "Client Client 2 robotcell1/temperature 0 b'99' retained: 0\n",
      "Client Client 2 robotcell1/temperature 0 b'39' retained: 0\n",
      "Client Client 2 robotcell1/temperature 0 b'77' retained: 0\n",
      "Client Client 2 robotcell1/temperature 0 b'99' retained: 0\n",
      "Client Client 2 robotcell1/temperature1 0 b'21' retained: 0\n",
      "Client Client 2 robotcell1/temperature1 0 b'26' retained: 0\n",
      "Client Client 2 robotcell1/temperature1 0 b'21' retained: 0\n",
      "Client Client 2 robotcell1/temperature1 0 b'26' retained: 0\n",
      "Client Client 2 robotcell1/temperature1 0 b'21' retained: 0\n",
      "Client Client 2 robotcell1/temperature1 0 b'21' retained: 0\n",
      "Client Client 2 robotcell1/temperature1 0 b'21' retained: 0\n",
      "Client Client 2 robotcell1/temperature1 0 b'21' retained: 0\n"
     ]
    }
   ],
   "source": [
    "mqtt_client_1.publish(\"robotcell1/temperature\",payload=2,qos=0,retain=True)  #retained is false in the usual message flow"
   ]
  },
  {
   "cell_type": "code",
   "execution_count": 56,
   "id": "bf39eedb-fffe-4b34-814d-62943bc3eff6",
   "metadata": {},
   "outputs": [
    {
     "data": {
      "text/plain": [
       "<paho.mqtt.client.MQTTMessageInfo at 0x7fceb6fa6d90>"
      ]
     },
     "execution_count": 56,
     "metadata": {},
     "output_type": "execute_result"
    }
   ],
   "source": [
    "mqtt_client_1.publish(\"robotcell1/temperature\",payload=75,qos=0,retain=False)"
   ]
  },
  {
   "cell_type": "code",
   "execution_count": 57,
   "id": "5e732a58-5077-42c4-8e93-5ab1e747c54d",
   "metadata": {},
   "outputs": [],
   "source": [
    "mqtt_client_4=mqtt.Client(client_id=\"myClient4\", clean_session=True, userdata=\"Client 4\", protocol=mqtt.MQTTv311, transport=\"tcp\") "
   ]
  },
  {
   "cell_type": "code",
   "execution_count": 58,
   "id": "915173fb-7435-42fa-8071-dbc75357dc86",
   "metadata": {},
   "outputs": [],
   "source": [
    "mqtt_client_4.on_message=on_message\n",
    "mqtt_client_4.connect(mqtt_broker_ip, port=1883, keepalive=60*4) \n",
    "mqtt_client_4.loop_start()"
   ]
  },
  {
   "cell_type": "markdown",
   "id": "7b86b6c9-b8f5-4aa2-9b85-b8f3df3754c0",
   "metadata": {},
   "source": [
    "What payload will a new subscriber get?"
   ]
  },
  {
   "cell_type": "code",
   "execution_count": 59,
   "id": "a8dc745b-c1c6-4cc2-a49f-2057aca5692c",
   "metadata": {},
   "outputs": [
    {
     "data": {
      "text/plain": [
       "(0, 1)"
      ]
     },
     "execution_count": 59,
     "metadata": {},
     "output_type": "execute_result"
    }
   ],
   "source": [
    "mqtt_client_4.subscribe(\"robotcell1/temperature\", qos=0) "
   ]
  },
  {
   "cell_type": "code",
   "execution_count": 60,
   "id": "6175d723-f402-4598-86ed-67abfc2af26a",
   "metadata": {},
   "outputs": [
    {
     "name": "stdout",
     "output_type": "stream",
     "text": [
      "Client Client 4 robotcell1/temperature 0 b'2' retained: 1\n"
     ]
    }
   ],
   "source": [
    "mqtt_client_4.loop_stop()"
   ]
  },
  {
   "cell_type": "code",
   "execution_count": 61,
   "id": "403a3541-3ca7-4a66-afb0-39e9071b1905",
   "metadata": {},
   "outputs": [
    {
     "data": {
      "text/plain": [
       "0"
      ]
     },
     "execution_count": 61,
     "metadata": {},
     "output_type": "execute_result"
    }
   ],
   "source": [
    "mqtt_client_4.disconnect()"
   ]
  },
  {
   "cell_type": "markdown",
   "id": "6ac44d3a-2d3a-41e9-aa97-aece2c81d5f2",
   "metadata": {},
   "source": [
    "# Design"
   ]
  },
  {
   "cell_type": "markdown",
   "id": "dd25fe3a-1f4d-40c5-8c0a-650bfda4bb41",
   "metadata": {},
   "source": [
    "We can use differnt payloads in MQTT messages: from raw data values to complete JSON documents\n",
    "\n",
    "Assume we have a robot with six axis and we want to publish the data to MQTT"
   ]
  },
  {
   "cell_type": "code",
   "execution_count": 62,
   "id": "5634bc1f-8885-414e-8011-c1a54fafb0e7",
   "metadata": {},
   "outputs": [],
   "source": [
    "robot_joints=[10,42,53,64,8,22]  #for each joint we have a value representing the current position (degree)"
   ]
  },
  {
   "cell_type": "code",
   "execution_count": 63,
   "id": "d2bd05b5-39af-4881-8b6c-9c54355e105a",
   "metadata": {},
   "outputs": [
    {
     "name": "stdout",
     "output_type": "stream",
     "text": [
      "...publish to robotcell1/joints/0\n",
      "...publish to robotcell1/joints/1\n",
      "...publish to robotcell1/joints/2\n",
      "...publish to robotcell1/joints/3\n",
      "...publish to robotcell1/joints/4\n",
      "...publish to robotcell1/joints/5\n"
     ]
    }
   ],
   "source": [
    "#Flatten-out the data\n",
    "for idx,joint in enumerate(robot_joints):\n",
    "    topic=\"robotcell1/joints/{0}\".format(idx)\n",
    "    print(\"...publish to \" + topic )\n",
    "    mqtt_client_1.publish(topic,payload=joint,qos=0)"
   ]
  },
  {
   "cell_type": "code",
   "execution_count": 64,
   "id": "164bf5e1-91d8-4586-a2ab-c0ae04ed7d7e",
   "metadata": {},
   "outputs": [],
   "source": [
    "#Compact format...\n",
    "\n",
    "joints={}\n",
    "for idx,joint in enumerate(robot_joints):\n",
    "    joints[\"joint\"+str(idx)]=joint"
   ]
  },
  {
   "cell_type": "code",
   "execution_count": 65,
   "id": "27d4f75b-9baa-44a0-a9f0-bcd7034c0d2d",
   "metadata": {},
   "outputs": [
    {
     "data": {
      "text/plain": [
       "<paho.mqtt.client.MQTTMessageInfo at 0x7fceb6f971f0>"
      ]
     },
     "execution_count": 65,
     "metadata": {},
     "output_type": "execute_result"
    }
   ],
   "source": [
    "mqtt_client_1.publish(\"robotcell1/joints\",payload=json.dumps(joints),qos=0)"
   ]
  },
  {
   "cell_type": "markdown",
   "id": "64a91cb4-1a15-43d9-86b6-50a2335cdada",
   "metadata": {},
   "source": [
    "**Discussion** \n",
    "\n",
    "What are the drawbacks/benefits of the two approaches:\n",
    "\n",
    "* Data-Traffic when a joint is updated\n",
    "* Effort for publishing data\n",
    "* Serializing data to that structure and the data back?"
   ]
  },
  {
   "cell_type": "markdown",
   "id": "64b19152-a313-492d-9e69-a0db565db71d",
   "metadata": {},
   "source": [
    "# Clean Session"
   ]
  },
  {
   "cell_type": "markdown",
   "id": "d0edbd5b-b8e9-464d-9603-5da248f733ec",
   "metadata": {},
   "source": [
    "Create a client as before - with `clean_session=True`"
   ]
  },
  {
   "cell_type": "code",
   "execution_count": 66,
   "id": "4bb4b5d7-f465-4670-9e7d-7d8d0e7b83f1",
   "metadata": {},
   "outputs": [],
   "source": [
    "mqtt_client_5=mqtt.Client(client_id=\"myClient5\", clean_session=True, userdata=\"client 5\", protocol=mqtt.MQTTv311, transport=\"tcp\")  # clean session=True - same as on the top\n",
    "time.sleep(1)"
   ]
  },
  {
   "cell_type": "code",
   "execution_count": 67,
   "id": "13088643-bfa5-4a78-97ae-439ba88cff11",
   "metadata": {},
   "outputs": [],
   "source": [
    "mqtt_client_5.on_message=on_message \n",
    "mqtt_client_5.connect(mqtt_broker_ip, port=1883, keepalive=60*4)\n",
    "mqtt_client_5.loop_start()\n",
    "time.sleep(1)"
   ]
  },
  {
   "cell_type": "markdown",
   "id": "acc0d99d-19c8-401c-bd19-32d8f4fdd429",
   "metadata": {},
   "source": [
    "Create another client - with `clean_session=False`"
   ]
  },
  {
   "cell_type": "code",
   "execution_count": 68,
   "id": "0396c7c0-e2ae-4aa4-a720-7ac808f2f082",
   "metadata": {},
   "outputs": [],
   "source": [
    "mqtt_client_6=mqtt.Client(client_id=\"myClient6\", clean_session=False, userdata=\"client 6\", protocol=mqtt.MQTTv311, transport=\"tcp\")  # clean session=False"
   ]
  },
  {
   "cell_type": "code",
   "execution_count": 69,
   "id": "45677e0a-620f-4603-8f4d-d071e371ff76",
   "metadata": {},
   "outputs": [],
   "source": [
    "mqtt_client_6.on_message=on_message\n",
    "mqtt_client_6.connect(mqtt_broker_ip, port=1883, keepalive=60*4) \n",
    "mqtt_client_6.loop_start()\n",
    "time.sleep(1)"
   ]
  },
  {
   "cell_type": "markdown",
   "id": "33fb727c-cc55-4a33-99c1-f299e47d7184",
   "metadata": {},
   "source": [
    "Subscribe to the temperature topic"
   ]
  },
  {
   "cell_type": "code",
   "execution_count": 70,
   "id": "ca278e68-2973-4dd9-9940-449d843f1aff",
   "metadata": {},
   "outputs": [
    {
     "name": "stdout",
     "output_type": "stream",
     "text": [
      "Client client 6 robotcell1/temperature 0 b'2' retained: 1\n"
     ]
    }
   ],
   "source": [
    "mqtt_client_6.subscribe(\"robotcell1/temperature\",qos=0)\n",
    "time.sleep(2)"
   ]
  },
  {
   "cell_type": "code",
   "execution_count": 71,
   "id": "6fb95719-8f50-4739-ac94-0d292ec2d1aa",
   "metadata": {},
   "outputs": [
    {
     "name": "stdout",
     "output_type": "stream",
     "text": [
      "Client client 5 robotcell1/temperature 0 b'2' retained: 1\n"
     ]
    }
   ],
   "source": [
    "mqtt_client_5.subscribe(topic=\"robotcell1/temperature\",qos=0)\n",
    "time.sleep(1)"
   ]
  },
  {
   "cell_type": "markdown",
   "id": "8f51f079-c314-42f4-887a-9b5d682a1a62",
   "metadata": {},
   "source": [
    "So far, both get the same values"
   ]
  },
  {
   "cell_type": "markdown",
   "id": "a25d2267-b0fc-4064-8c1f-bf0feb132c28",
   "metadata": {},
   "source": [
    "**simulate a disconnection of the two clients (e.g. a connection drop down...)**"
   ]
  },
  {
   "cell_type": "code",
   "execution_count": 72,
   "id": "502c6d1f-74e0-4ba2-88c2-92ada50f2d73",
   "metadata": {},
   "outputs": [],
   "source": [
    "mqtt_client_6.disconnect()\n",
    "mqtt_client_6.loop_stop()\n",
    "time.sleep(1)"
   ]
  },
  {
   "cell_type": "code",
   "execution_count": 73,
   "id": "0eb1750f-13ec-4521-9b48-d3a879dcead8",
   "metadata": {},
   "outputs": [],
   "source": [
    "mqtt_client_5.disconnect()\n",
    "mqtt_client_5.loop_stop()\n",
    "time.sleep(1)"
   ]
  },
  {
   "cell_type": "code",
   "execution_count": 74,
   "id": "06f48b15-79d3-4593-829e-3fe550c6c0bc",
   "metadata": {},
   "outputs": [
    {
     "name": "stdout",
     "output_type": "stream",
     "text": [
      "Client Client 3 robotcell1/temperature 0 b'76' retained: 0\n",
      "Client Client 3 robotcell1/temperature 0 b'39' retained: 0\n",
      "Client Client 3 robotcell1/temperature 0 b'77' retained: 0\n",
      "Client Client 3 robotcell1/temperature 0 b'99' retained: 0\n",
      "Client Client 3 robotcell1/temperature 0 b'39' retained: 0\n",
      "Client Client 3 robotcell1/temperature 0 b'77' retained: 0\n",
      "Client Client 3 robotcell1/temperature 0 b'99' retained: 0\n"
     ]
    },
    {
     "data": {
      "text/plain": [
       "<paho.mqtt.client.MQTTMessageInfo at 0x7fceb6fa7c40>"
      ]
     },
     "execution_count": 74,
     "metadata": {},
     "output_type": "execute_result"
    }
   ],
   "source": [
    "#now new data is published which was relevant for the clients....\n",
    "mqtt_client_1.publish(\"robotcell1/temperature\",payload=76)  # NON RETAINED!!! QoS is 0 by default!"
   ]
  },
  {
   "cell_type": "markdown",
   "id": "7642e00a-8161-4210-8474-ea59baf517a0",
   "metadata": {},
   "source": [
    "**simulate reconnection of the clients**"
   ]
  },
  {
   "cell_type": "code",
   "execution_count": 75,
   "id": "67c2a3a6-5f3d-40d7-8c1f-281e633dabea",
   "metadata": {},
   "outputs": [],
   "source": [
    "mqtt_client_6.reconnect()  #subscription is remembered\n",
    "mqtt_client_6.loop_start()\n",
    "time.sleep(1)"
   ]
  },
  {
   "cell_type": "code",
   "execution_count": 76,
   "id": "fb1ab7fd-0549-4a35-8bda-50d0cf295356",
   "metadata": {},
   "outputs": [],
   "source": [
    "mqtt_client_5.reconnect()   #subscription is NOT remembered \n",
    "mqtt_client_5.loop_start()\n",
    "time.sleep(1)"
   ]
  },
  {
   "cell_type": "code",
   "execution_count": 77,
   "id": "b085bc31-e717-43da-9ae4-7b8371ea79f7",
   "metadata": {},
   "outputs": [
    {
     "data": {
      "text/plain": [
       "(0, 2)"
      ]
     },
     "execution_count": 77,
     "metadata": {},
     "output_type": "execute_result"
    },
    {
     "name": "stdout",
     "output_type": "stream",
     "text": [
      "Client client 5 robotcell1/temperature 0 b'2' retained: 1\n"
     ]
    }
   ],
   "source": [
    "#retained values is returned!\n",
    "mqtt_client_5.subscribe(topic=\"robotcell1/temperature\",qos=0)"
   ]
  },
  {
   "cell_type": "markdown",
   "id": "729a4cf1-971c-4f28-a1cb-e395de32b81f",
   "metadata": {},
   "source": [
    "The message sent in the meantime is lost!"
   ]
  },
  {
   "cell_type": "markdown",
   "id": "93d4e8ca-8d8a-4a91-a1c2-d7e0e86edacb",
   "metadata": {},
   "source": [
    "**Disconnect Again**"
   ]
  },
  {
   "cell_type": "code",
   "execution_count": 78,
   "id": "12d02ce8-acbf-4948-8b2c-c20db2aa0040",
   "metadata": {},
   "outputs": [],
   "source": [
    "mqtt_client_6.disconnect()\n",
    "mqtt_client_6.loop_stop()\n",
    "time.sleep(1)"
   ]
  },
  {
   "cell_type": "code",
   "execution_count": 79,
   "id": "4d33e807-e000-4e8c-8bfe-fd4f91cd43d6",
   "metadata": {},
   "outputs": [],
   "source": [
    "mqtt_client_5.disconnect()\n",
    "mqtt_client_5.loop_stop()\n",
    "time.sleep(1)"
   ]
  },
  {
   "cell_type": "code",
   "execution_count": 80,
   "id": "4100fde6-f273-4dcf-8735-73576c795fe2",
   "metadata": {},
   "outputs": [],
   "source": [
    "#publish with QoS 1"
   ]
  },
  {
   "cell_type": "code",
   "execution_count": 81,
   "id": "6dda075b-1a5b-4315-94a7-5d3e4b216ffc",
   "metadata": {},
   "outputs": [
    {
     "data": {
      "text/plain": [
       "<paho.mqtt.client.MQTTMessageInfo at 0x7fceb6fc3ce0>"
      ]
     },
     "execution_count": 81,
     "metadata": {},
     "output_type": "execute_result"
    }
   ],
   "source": [
    "mqtt_client_1.publish(\"robotcell1/temperature\",payload=39,qos=1)\n",
    "mqtt_client_1.publish(\"robotcell1/temperature\",payload=77,qos=1)\n",
    "mqtt_client_1.publish(\"robotcell1/temperature\",payload=99,qos=1)"
   ]
  },
  {
   "cell_type": "code",
   "execution_count": 82,
   "id": "950f368f-2f34-425c-80e0-f3b906beb64b",
   "metadata": {},
   "outputs": [
    {
     "data": {
      "text/plain": [
       "[<paho.mqtt.client.MQTTMessage at 0x7fceb6fb8890>,\n",
       " <paho.mqtt.client.MQTTMessage at 0x7fceb6fb8900>,\n",
       " <paho.mqtt.client.MQTTMessage at 0x7fceb6fb8b30>,\n",
       " <paho.mqtt.client.MQTTMessage at 0x7fceb6fb8ba0>,\n",
       " <paho.mqtt.client.MQTTMessage at 0x7fceb6fb8f20>,\n",
       " <paho.mqtt.client.MQTTMessage at 0x7fceb6fb9150>,\n",
       " <paho.mqtt.client.MQTTMessage at 0x7fceb6fb89e0>,\n",
       " <paho.mqtt.client.MQTTMessage at 0x7fceb6fb9460>,\n",
       " <paho.mqtt.client.MQTTMessage at 0x7fceb6fb99a0>,\n",
       " <paho.mqtt.client.MQTTMessage at 0x7fceb6fb97e0>,\n",
       " <paho.mqtt.client.MQTTMessage at 0x7fceb6fb9cb0>,\n",
       " <paho.mqtt.client.MQTTMessage at 0x7fceb6fba110>,\n",
       " <paho.mqtt.client.MQTTMessage at 0x7fceb6fba1f0>,\n",
       " <paho.mqtt.client.MQTTMessage at 0x7fceb6fba340>,\n",
       " <paho.mqtt.client.MQTTMessage at 0x7fceb6fba260>,\n",
       " <paho.mqtt.client.MQTTMessage at 0x7fceb6fba2d0>,\n",
       " <paho.mqtt.client.MQTTMessage at 0x7fceb6fba490>]"
      ]
     },
     "execution_count": 82,
     "metadata": {},
     "output_type": "execute_result"
    }
   ],
   "source": [
    "all_messages"
   ]
  },
  {
   "cell_type": "markdown",
   "id": "143d88cb-178a-443d-a593-01b82ae15141",
   "metadata": {},
   "source": [
    "**Re-Connect Again**"
   ]
  },
  {
   "cell_type": "code",
   "execution_count": 83,
   "id": "2db8cbee-16f8-4b35-8058-409db2ccf106",
   "metadata": {},
   "outputs": [],
   "source": [
    "mqtt_client_6.connect(mqtt_broker_ip, port=1883, keepalive=60*4)   \n",
    "mqtt_client_6.loop_start()"
   ]
  },
  {
   "cell_type": "code",
   "execution_count": 84,
   "id": "b2715167-5309-4d0e-bea8-796065e246d2",
   "metadata": {},
   "outputs": [],
   "source": [
    "mqtt_client_5.connect(mqtt_broker_ip, port=1883, keepalive=60*4)   \n",
    "mqtt_client_5.loop_start()"
   ]
  },
  {
   "cell_type": "markdown",
   "id": "11d0c7bd-cb25-4029-aec9-310a473fdf53",
   "metadata": {},
   "source": [
    "Also here the message sent in between is lost! So lets move up the QoS of the subscription to 1"
   ]
  },
  {
   "cell_type": "code",
   "execution_count": 85,
   "id": "9f5adebb-7539-42db-ae27-63231eff5b13",
   "metadata": {},
   "outputs": [
    {
     "data": {
      "text/plain": [
       "(0, 2)"
      ]
     },
     "execution_count": 85,
     "metadata": {},
     "output_type": "execute_result"
    },
    {
     "name": "stdout",
     "output_type": "stream",
     "text": [
      "Client client 6 robotcell1/temperature 0 b'2' retained: 1\n"
     ]
    }
   ],
   "source": [
    "mqtt_client_6.subscribe(\"robotcell1/temperature\",qos=1)"
   ]
  },
  {
   "cell_type": "code",
   "execution_count": 86,
   "id": "470c4eab-9e12-4885-b254-91ae7fbcef8c",
   "metadata": {},
   "outputs": [
    {
     "data": {
      "text/plain": [
       "(0, 3)"
      ]
     },
     "execution_count": 86,
     "metadata": {},
     "output_type": "execute_result"
    },
    {
     "name": "stdout",
     "output_type": "stream",
     "text": [
      "Client client 5 robotcell1/temperature 0 b'2' retained: 1\n"
     ]
    }
   ],
   "source": [
    "mqtt_client_5.subscribe(\"robotcell1/temperature\",qos=1)"
   ]
  },
  {
   "cell_type": "markdown",
   "id": "4b055048-68ef-45e6-bb31-3517232dbfbc",
   "metadata": {},
   "source": [
    "**Disconnect**"
   ]
  },
  {
   "cell_type": "code",
   "execution_count": 87,
   "id": "4d742c31-76af-43e9-91ec-a90d35b5d0ac",
   "metadata": {},
   "outputs": [],
   "source": [
    "mqtt_client_6.disconnect()\n",
    "mqtt_client_6.loop_stop()\n",
    "time.sleep(1)"
   ]
  },
  {
   "cell_type": "code",
   "execution_count": 88,
   "id": "51d11835-a8cb-45bf-ac13-e97d6e91456d",
   "metadata": {},
   "outputs": [],
   "source": [
    "mqtt_client_5.disconnect()\n",
    "mqtt_client_5.loop_stop()\n",
    "time.sleep(1)"
   ]
  },
  {
   "cell_type": "markdown",
   "id": "f2c93f7c-ad41-4537-8966-50c3c32dbef7",
   "metadata": {},
   "source": [
    "**Sent QoS Messages in Between**"
   ]
  },
  {
   "cell_type": "code",
   "execution_count": 89,
   "id": "be9bdb9d-5b2a-475b-81b5-ec5c957c9083",
   "metadata": {},
   "outputs": [
    {
     "data": {
      "text/plain": [
       "<paho.mqtt.client.MQTTMessageInfo at 0x7fceb6fa64d0>"
      ]
     },
     "execution_count": 89,
     "metadata": {},
     "output_type": "execute_result"
    }
   ],
   "source": [
    "mqtt_client_1.publish(\"robotcell1/temperature\",payload=39,qos=1)\n",
    "mqtt_client_1.publish(\"robotcell1/temperature\",payload=77,qos=1)\n",
    "mqtt_client_1.publish(\"robotcell1/temperature\",payload=99,qos=1)"
   ]
  },
  {
   "cell_type": "markdown",
   "id": "94fa80bc-09ff-4df7-b721-4377f657af0f",
   "metadata": {},
   "source": [
    "`Client 6` now receives all the **NON-RETAINED** values!"
   ]
  },
  {
   "cell_type": "code",
   "execution_count": 90,
   "id": "4dbe0a3e-5b3d-41f5-a426-fc18627880e4",
   "metadata": {},
   "outputs": [
    {
     "name": "stdout",
     "output_type": "stream",
     "text": [
      "Client client 6 robotcell1/temperature 1 b'39' retained: 0\n",
      "Client client 6 robotcell1/temperature 1 b'77' retained: 0\n",
      "Client client 6 robotcell1/temperature 1 b'99' retained: 0\n"
     ]
    }
   ],
   "source": [
    "mqtt_client_6.reconnect()\n",
    "mqtt_client_6.loop_start()"
   ]
  },
  {
   "cell_type": "code",
   "execution_count": null,
   "id": "ac880400-1632-4fff-bbcf-bc6c27d61127",
   "metadata": {},
   "outputs": [
    {
     "data": {
      "text/plain": [
       "(0, 4)"
      ]
     },
     "execution_count": 91,
     "metadata": {},
     "output_type": "execute_result"
    },
    {
     "name": "stdout",
     "output_type": "stream",
     "text": [
      "Client client 5 robotcell1/temperature 0 b'2' retained: 1\n"
     ]
    }
   ],
   "source": [
    "mqtt_client_5.reconnect()\n",
    "mqtt_client_5.loop_start()\n",
    "mqtt_client_5.subscribe(\"robotcell1/temperature\",qos=1)"
   ]
  }
 ],
 "metadata": {
  "kernelspec": {
   "display_name": "Python 3 (ipykernel)",
   "language": "python",
   "name": "python3"
  },
  "language_info": {
   "codemirror_mode": {
    "name": "ipython",
    "version": 3
   },
   "file_extension": ".py",
   "mimetype": "text/x-python",
   "name": "python",
   "nbconvert_exporter": "python",
   "pygments_lexer": "ipython3",
   "version": "3.11.6"
  }
 },
 "nbformat": 4,
 "nbformat_minor": 5
}
