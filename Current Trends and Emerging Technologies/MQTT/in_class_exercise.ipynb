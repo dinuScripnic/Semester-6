{
 "cells": [
  {
   "cell_type": "markdown",
   "metadata": {},
   "source": [
    "# In-Class Exercise"
   ]
  },
  {
   "cell_type": "markdown",
   "metadata": {},
   "source": [
    "Assume the following structure in MQTT:\n",
    "\n",
    "\n",
    "`robotcell1/temperature1=21`\n",
    "\n",
    "`robotcell1/temperature2=26`\n",
    "\n",
    "\n",
    "Simply create it in the broker by publishing to those topics.\n",
    "\n",
    "\n",
    "Create a client, that subscribes to them and publishes the average to `robotcell1/avgtemperature`\n"
   ]
  },
  {
   "cell_type": "code",
   "execution_count": 1,
   "metadata": {},
   "outputs": [],
   "source": [
    "import paho.mqtt.client as mqtt #basic mqtt utilities\n",
    "\n",
    "import time #for sleep\n",
    "\n",
    "import random # random\n",
    "\n",
    "import json #for json"
   ]
  },
  {
   "cell_type": "code",
   "execution_count": 2,
   "metadata": {},
   "outputs": [
    {
     "data": {
      "text/plain": [
       "0"
      ]
     },
     "execution_count": 2,
     "metadata": {},
     "output_type": "execute_result"
    }
   ],
   "source": [
    "publisher1 = mqtt.Client(client_id=\"myClientTest\", clean_session=True)\n",
    "publisher1.connect(\"localhost\", keepalive=60, port=1883)"
   ]
  },
  {
   "cell_type": "code",
   "execution_count": 3,
   "metadata": {},
   "outputs": [
    {
     "data": {
      "text/plain": [
       "0"
      ]
     },
     "execution_count": 3,
     "metadata": {},
     "output_type": "execute_result"
    }
   ],
   "source": [
    "subscriber1 = mqtt.Client(client_id=\"myClientTest111\", clean_session=True)\n",
    "subscriber1.connect(\"localhost\", keepalive=60, port=1883)"
   ]
  },
  {
   "cell_type": "code",
   "execution_count": 4,
   "metadata": {},
   "outputs": [],
   "source": [
    "temps = [0, 0]\n",
    "def avg_on_message(client: mqtt.Client, userdata:str, msg:mqtt.MQTTMessage):\n",
    "    print(temps)\n",
    "    if msg.topic.endswith(\"1\"):\n",
    "        temps[0] = float(msg.payload)\n",
    "    if msg.topic.endswith(\"2\"):\n",
    "        temps[1] = float(msg.payload)\n",
    "    print(temps)\n",
    "    subscriber1.publish(\"robotcell1/avg\", payload=(temps[0]+temps[1])/2)"
   ]
  },
  {
   "cell_type": "code",
   "execution_count": 5,
   "metadata": {},
   "outputs": [
    {
     "name": "stderr",
     "output_type": "stream",
     "text": [
      "Exception in thread Thread-4 (_thread_main):\n",
      "Traceback (most recent call last):\n",
      "  File \"/usr/lib/python3.11/threading.py\", line 1045, in _bootstrap_inner\n",
      "    self.run()\n",
      "  File \"/home/dinu/Study/Semester-6/Current Trends and Emerging Technologies/venv/lib/python3.11/site-packages/ipykernel/ipkernel.py\", line 761, in run_closure\n",
      "    _threading_Thread_run(self)\n",
      "  File \"/usr/lib/python3.11/threading.py\", line 982, in run\n",
      "    self._target(*self._args, **self._kwargs)\n",
      "  File \"/home/dinu/Study/Semester-6/Current Trends and Emerging Technologies/venv/lib/python3.11/site-packages/paho/mqtt/client.py\", line 3591, in _thread_main\n",
      "    self.loop_forever(retry_first_connection=True)\n",
      "  File \"/home/dinu/Study/Semester-6/Current Trends and Emerging Technologies/venv/lib/python3.11/site-packages/paho/mqtt/client.py\", line 1756, in loop_forever\n",
      "    rc = self._loop(timeout)\n",
      "         ^^^^^^^^^^^^^^^^^^^\n",
      "  File \"/home/dinu/Study/Semester-6/Current Trends and Emerging Technologies/venv/lib/python3.11/site-packages/paho/mqtt/client.py\", line 1164, in _loop\n",
      "    rc = self.loop_read()\n",
      "         ^^^^^^^^^^^^^^^^\n",
      "  File \"/home/dinu/Study/Semester-6/Current Trends and Emerging Technologies/venv/lib/python3.11/site-packages/paho/mqtt/client.py\", line 1556, in loop_read\n",
      "    rc = self._packet_read()\n",
      "         ^^^^^^^^^^^^^^^^^^^\n",
      "  File \"/home/dinu/Study/Semester-6/Current Trends and Emerging Technologies/venv/lib/python3.11/site-packages/paho/mqtt/client.py\", line 2439, in _packet_read\n",
      "    rc = self._packet_handle()\n",
      "         ^^^^^^^^^^^^^^^^^^^^^\n",
      "  File \"/home/dinu/Study/Semester-6/Current Trends and Emerging Technologies/venv/lib/python3.11/site-packages/paho/mqtt/client.py\", line 3033, in _packet_handle\n",
      "    return self._handle_publish()\n",
      "           ^^^^^^^^^^^^^^^^^^^^^^\n",
      "  File \"/home/dinu/Study/Semester-6/Current Trends and Emerging Technologies/venv/lib/python3.11/site-packages/paho/mqtt/client.py\", line 3327, in _handle_publish\n",
      "    self._handle_on_message(message)\n",
      "  File \"/home/dinu/Study/Semester-6/Current Trends and Emerging Technologies/venv/lib/python3.11/site-packages/paho/mqtt/client.py\", line 3570, in _handle_on_message\n",
      "    on_message(self, self._userdata, message)\n",
      "  File \"/tmp/ipykernel_40943/2233876642.py\", line 5, in avg_on_message\n",
      "TypeError: 'tuple' object does not support item assignment\n"
     ]
    },
    {
     "name": "stdout",
     "output_type": "stream",
     "text": [
      "(0, 0)\n"
     ]
    }
   ],
   "source": [
    "# subscriber1.on_message = on_message\n",
    "publisher1.on_message = avg_on_message\n",
    "publisher1.subscribe(topic=[(\"robotcell1/temperature1\", 0), (\"robotcell1/temperature2\", 0)])\n",
    "publisher1.loop_start()\n"
   ]
  }
 ],
 "metadata": {
  "kernelspec": {
   "display_name": "venv",
   "language": "python",
   "name": "python3"
  },
  "language_info": {
   "codemirror_mode": {
    "name": "ipython",
    "version": 3
   },
   "file_extension": ".py",
   "mimetype": "text/x-python",
   "name": "python",
   "nbconvert_exporter": "python",
   "pygments_lexer": "ipython3",
   "version": "3.11.6"
  }
 },
 "nbformat": 4,
 "nbformat_minor": 2
}
