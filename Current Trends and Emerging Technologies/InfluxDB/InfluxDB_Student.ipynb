{
 "cells": [
  {
   "cell_type": "markdown",
   "id": "8542d5c7-04b6-46e2-bbab-646baa4be063",
   "metadata": {
    "tags": []
   },
   "source": [
    "# InfluxDB"
   ]
  },
  {
   "cell_type": "code",
   "execution_count": 32,
   "id": "c5d97c52-0e7b-4e6c-b69f-a9e391b733f0",
   "metadata": {},
   "outputs": [],
   "source": [
    "from influxdb_client   import InfluxDBClient, BucketRetentionRules,WritePrecision\n",
    "import influxdb_client"
   ]
  },
  {
   "cell_type": "code",
   "execution_count": 33,
   "id": "e3ced6af-da31-4503-9107-51e778fa4336",
   "metadata": {},
   "outputs": [],
   "source": [
    "import random"
   ]
  },
  {
   "cell_type": "code",
   "execution_count": 34,
   "id": "bc01ea62-f7b0-4066-ad23-70497427f01e",
   "metadata": {},
   "outputs": [],
   "source": [
    "import time"
   ]
  },
  {
   "cell_type": "code",
   "execution_count": 35,
   "id": "e0eb80c7-2b8f-4b42-9294-fd5dfb4aba51",
   "metadata": {},
   "outputs": [],
   "source": [
    "import pandas as pd"
   ]
  },
  {
   "cell_type": "markdown",
   "id": "6ce95480-14f4-4cd3-8e0a-fbe25fa72720",
   "metadata": {},
   "source": [
    "## Create a Client Object"
   ]
  },
  {
   "cell_type": "code",
   "execution_count": 36,
   "id": "4bd4078d-139b-4406-acd4-e64b3d1fecf2",
   "metadata": {},
   "outputs": [],
   "source": [
    "client = InfluxDBClient(url=\"http://localhost:8086\", token= \"my_password\", org=\"primary\")"
   ]
  },
  {
   "cell_type": "code",
   "execution_count": 37,
   "id": "9afc3606-b421-4534-8152-98ac9729e3bf",
   "metadata": {},
   "outputs": [],
   "source": [
    "def myprint(table):\n",
    "    for table in tables:\n",
    "        print(table)\n",
    "        for row in table.records:\n",
    "            print (row.values)"
   ]
  },
  {
   "cell_type": "markdown",
   "id": "55988f7c-1ca6-4445-b070-02a835cba02a",
   "metadata": {},
   "source": [
    "# Bucket"
   ]
  },
  {
   "cell_type": "code",
   "execution_count": 38,
   "id": "71fb08d9-0208-4488-bb69-3a899cee137c",
   "metadata": {},
   "outputs": [],
   "source": [
    "bucket_api=client.buckets_api()"
   ]
  },
  {
   "cell_type": "code",
   "execution_count": 39,
   "id": "f07618d0-2ec5-423c-8da0-097367e3bd56",
   "metadata": {},
   "outputs": [
    {
     "ename": "ApiException",
     "evalue": "(422)\nReason: Unprocessable Entity\nHTTP response headers: HTTPHeaderDict({'Content-Type': 'application/json; charset=utf-8', 'X-Influxdb-Build': 'OSS', 'X-Influxdb-Version': 'v2.7.5', 'X-Platform-Error-Code': 'conflict', 'Date': 'Mon, 19 Feb 2024 13:53:02 GMT', 'Content-Length': '84'})\nHTTP response body: {\n\t\"code\": \"conflict\",\n\t\"message\": \"bucket with name myFirstBucket already exists\"\n}\n",
     "output_type": "error",
     "traceback": [
      "\u001b[0;31m---------------------------------------------------------------------------\u001b[0m",
      "\u001b[0;31mApiException\u001b[0m                              Traceback (most recent call last)",
      "Cell \u001b[0;32mIn[39], line 1\u001b[0m\n\u001b[0;32m----> 1\u001b[0m \u001b[43mbucket_api\u001b[49m\u001b[38;5;241;43m.\u001b[39;49m\u001b[43mcreate_bucket\u001b[49m\u001b[43m(\u001b[49m\u001b[43mbucket_name\u001b[49m\u001b[38;5;241;43m=\u001b[39;49m\u001b[38;5;124;43m\"\u001b[39;49m\u001b[38;5;124;43mmyFirstBucket\u001b[39;49m\u001b[38;5;124;43m\"\u001b[39;49m\u001b[43m,\u001b[49m\u001b[43morg_id\u001b[49m\u001b[38;5;241;43m=\u001b[39;49m\u001b[38;5;124;43m\"\u001b[39;49m\u001b[38;5;124;43mprimary\u001b[39;49m\u001b[38;5;124;43m\"\u001b[39;49m\u001b[43m,\u001b[49m\u001b[43mretention_rules\u001b[49m\u001b[38;5;241;43m=\u001b[39;49m\u001b[43m[\u001b[49m\u001b[43mBucketRetentionRules\u001b[49m\u001b[43m(\u001b[49m\u001b[43mevery_seconds\u001b[49m\u001b[38;5;241;43m=\u001b[39;49m\u001b[38;5;241;43m60\u001b[39;49m\u001b[38;5;241;43m*\u001b[39;49m\u001b[38;5;241;43m60\u001b[39;49m\u001b[43m)\u001b[49m\u001b[43m]\u001b[49m\u001b[43m)\u001b[49m  \u001b[38;5;66;03m#create bucket with retention rule\u001b[39;00m\n",
      "File \u001b[0;32m~/Study/Semester-6/Current Trends and Emerging Technologies/venv/lib/python3.11/site-packages/influxdb_client/client/bucket_api.py:59\u001b[0m, in \u001b[0;36mBucketsApi.create_bucket\u001b[0;34m(self, bucket, bucket_name, org_id, retention_rules, description, org)\u001b[0m\n\u001b[1;32m     51\u001b[0m \u001b[38;5;28;01mif\u001b[39;00m bucket \u001b[38;5;129;01mis\u001b[39;00m \u001b[38;5;28;01mNone\u001b[39;00m:\n\u001b[1;32m     52\u001b[0m     bucket \u001b[38;5;241m=\u001b[39m PostBucketRequest(name\u001b[38;5;241m=\u001b[39mbucket_name,\n\u001b[1;32m     53\u001b[0m                                retention_rules\u001b[38;5;241m=\u001b[39mrules,\n\u001b[1;32m     54\u001b[0m                                description\u001b[38;5;241m=\u001b[39mdescription,\n\u001b[1;32m     55\u001b[0m                                org_id\u001b[38;5;241m=\u001b[39mget_org_query_param(org\u001b[38;5;241m=\u001b[39m(org_id \u001b[38;5;28;01mif\u001b[39;00m org \u001b[38;5;129;01mis\u001b[39;00m \u001b[38;5;28;01mNone\u001b[39;00m \u001b[38;5;28;01melse\u001b[39;00m org),\n\u001b[1;32m     56\u001b[0m                                                           client\u001b[38;5;241m=\u001b[39m\u001b[38;5;28mself\u001b[39m\u001b[38;5;241m.\u001b[39m_influxdb_client,\n\u001b[1;32m     57\u001b[0m                                                           required_id\u001b[38;5;241m=\u001b[39m\u001b[38;5;28;01mTrue\u001b[39;00m))\n\u001b[0;32m---> 59\u001b[0m \u001b[38;5;28;01mreturn\u001b[39;00m \u001b[38;5;28;43mself\u001b[39;49m\u001b[38;5;241;43m.\u001b[39;49m\u001b[43m_buckets_service\u001b[49m\u001b[38;5;241;43m.\u001b[39;49m\u001b[43mpost_buckets\u001b[49m\u001b[43m(\u001b[49m\u001b[43mpost_bucket_request\u001b[49m\u001b[38;5;241;43m=\u001b[39;49m\u001b[43mbucket\u001b[49m\u001b[43m)\u001b[49m\n",
      "File \u001b[0;32m~/Study/Semester-6/Current Trends and Emerging Technologies/venv/lib/python3.11/site-packages/influxdb_client/service/buckets_service.py:1432\u001b[0m, in \u001b[0;36mBucketsService.post_buckets\u001b[0;34m(self, post_bucket_request, **kwargs)\u001b[0m\n\u001b[1;32m   1430\u001b[0m     \u001b[38;5;28;01mreturn\u001b[39;00m \u001b[38;5;28mself\u001b[39m\u001b[38;5;241m.\u001b[39mpost_buckets_with_http_info(post_bucket_request, \u001b[38;5;241m*\u001b[39m\u001b[38;5;241m*\u001b[39mkwargs)  \u001b[38;5;66;03m# noqa: E501\u001b[39;00m\n\u001b[1;32m   1431\u001b[0m \u001b[38;5;28;01melse\u001b[39;00m:\n\u001b[0;32m-> 1432\u001b[0m     (data) \u001b[38;5;241m=\u001b[39m \u001b[38;5;28;43mself\u001b[39;49m\u001b[38;5;241;43m.\u001b[39;49m\u001b[43mpost_buckets_with_http_info\u001b[49m\u001b[43m(\u001b[49m\u001b[43mpost_bucket_request\u001b[49m\u001b[43m,\u001b[49m\u001b[43m \u001b[49m\u001b[38;5;241;43m*\u001b[39;49m\u001b[38;5;241;43m*\u001b[39;49m\u001b[43mkwargs\u001b[49m\u001b[43m)\u001b[49m  \u001b[38;5;66;03m# noqa: E501\u001b[39;00m\n\u001b[1;32m   1433\u001b[0m     \u001b[38;5;28;01mreturn\u001b[39;00m data\n",
      "File \u001b[0;32m~/Study/Semester-6/Current Trends and Emerging Technologies/venv/lib/python3.11/site-packages/influxdb_client/service/buckets_service.py:1454\u001b[0m, in \u001b[0;36mBucketsService.post_buckets_with_http_info\u001b[0;34m(self, post_bucket_request, **kwargs)\u001b[0m\n\u001b[1;32m   1436\u001b[0m \u001b[38;5;250m\u001b[39m\u001b[38;5;124;03m\"\"\"Create a bucket.\u001b[39;00m\n\u001b[1;32m   1437\u001b[0m \n\u001b[1;32m   1438\u001b[0m \u001b[38;5;124;03mCreates a [bucket](https://docs.influxdata.com/influxdb/latest/reference/glossary/#bucket) and returns the bucket resource. The default data [retention period](https://docs.influxdata.com/influxdb/latest/reference/glossary/#retention-period) is 30 days.  #### InfluxDB OSS  - A single InfluxDB OSS instance supports active writes or queries for approximately 20 buckets across all organizations at a given time. Reading or writing to more than 20 buckets at a time can adversely affect performance.  #### Limitations  - InfluxDB Cloud Free Plan allows users to create up to two buckets. Exceeding the bucket quota will result in an HTTP `403` status code. For additional information regarding InfluxDB Cloud offerings, see [InfluxDB Cloud Pricing](https://www.influxdata.com/influxdb-cloud-pricing/).  #### Related Guides  - [Create a bucket](https://docs.influxdata.com/influxdb/latest/organizations/buckets/create-bucket/) - [Create bucket CLI reference](https://docs.influxdata.com/influxdb/latest/reference/cli/influx/bucket/create)\u001b[39;00m\n\u001b[0;32m   (...)\u001b[0m\n\u001b[1;32m   1449\u001b[0m \u001b[38;5;124;03m         returns the request thread.\u001b[39;00m\n\u001b[1;32m   1450\u001b[0m \u001b[38;5;124;03m\"\"\"\u001b[39;00m  \u001b[38;5;66;03m# noqa: E501\u001b[39;00m\n\u001b[1;32m   1451\u001b[0m local_var_params, path_params, query_params, header_params, body_params \u001b[38;5;241m=\u001b[39m \\\n\u001b[1;32m   1452\u001b[0m     \u001b[38;5;28mself\u001b[39m\u001b[38;5;241m.\u001b[39m_post_buckets_prepare(post_bucket_request, \u001b[38;5;241m*\u001b[39m\u001b[38;5;241m*\u001b[39mkwargs)  \u001b[38;5;66;03m# noqa: E501\u001b[39;00m\n\u001b[0;32m-> 1454\u001b[0m \u001b[38;5;28;01mreturn\u001b[39;00m \u001b[38;5;28;43mself\u001b[39;49m\u001b[38;5;241;43m.\u001b[39;49m\u001b[43mapi_client\u001b[49m\u001b[38;5;241;43m.\u001b[39;49m\u001b[43mcall_api\u001b[49m\u001b[43m(\u001b[49m\n\u001b[1;32m   1455\u001b[0m \u001b[43m    \u001b[49m\u001b[38;5;124;43m'\u001b[39;49m\u001b[38;5;124;43m/api/v2/buckets\u001b[39;49m\u001b[38;5;124;43m'\u001b[39;49m\u001b[43m,\u001b[49m\u001b[43m \u001b[49m\u001b[38;5;124;43m'\u001b[39;49m\u001b[38;5;124;43mPOST\u001b[39;49m\u001b[38;5;124;43m'\u001b[39;49m\u001b[43m,\u001b[49m\n\u001b[1;32m   1456\u001b[0m \u001b[43m    \u001b[49m\u001b[43mpath_params\u001b[49m\u001b[43m,\u001b[49m\n\u001b[1;32m   1457\u001b[0m \u001b[43m    \u001b[49m\u001b[43mquery_params\u001b[49m\u001b[43m,\u001b[49m\n\u001b[1;32m   1458\u001b[0m \u001b[43m    \u001b[49m\u001b[43mheader_params\u001b[49m\u001b[43m,\u001b[49m\n\u001b[1;32m   1459\u001b[0m \u001b[43m    \u001b[49m\u001b[43mbody\u001b[49m\u001b[38;5;241;43m=\u001b[39;49m\u001b[43mbody_params\u001b[49m\u001b[43m,\u001b[49m\n\u001b[1;32m   1460\u001b[0m \u001b[43m    \u001b[49m\u001b[43mpost_params\u001b[49m\u001b[38;5;241;43m=\u001b[39;49m\u001b[43m[\u001b[49m\u001b[43m]\u001b[49m\u001b[43m,\u001b[49m\n\u001b[1;32m   1461\u001b[0m \u001b[43m    \u001b[49m\u001b[43mfiles\u001b[49m\u001b[38;5;241;43m=\u001b[39;49m\u001b[43m{\u001b[49m\u001b[43m}\u001b[49m\u001b[43m,\u001b[49m\n\u001b[1;32m   1462\u001b[0m \u001b[43m    \u001b[49m\u001b[43mresponse_type\u001b[49m\u001b[38;5;241;43m=\u001b[39;49m\u001b[38;5;124;43m'\u001b[39;49m\u001b[38;5;124;43mBucket\u001b[39;49m\u001b[38;5;124;43m'\u001b[39;49m\u001b[43m,\u001b[49m\u001b[43m  \u001b[49m\u001b[38;5;66;43;03m# noqa: E501\u001b[39;49;00m\n\u001b[1;32m   1463\u001b[0m \u001b[43m    \u001b[49m\u001b[43mauth_settings\u001b[49m\u001b[38;5;241;43m=\u001b[39;49m\u001b[43m[\u001b[49m\u001b[43m]\u001b[49m\u001b[43m,\u001b[49m\n\u001b[1;32m   1464\u001b[0m \u001b[43m    \u001b[49m\u001b[43masync_req\u001b[49m\u001b[38;5;241;43m=\u001b[39;49m\u001b[43mlocal_var_params\u001b[49m\u001b[38;5;241;43m.\u001b[39;49m\u001b[43mget\u001b[49m\u001b[43m(\u001b[49m\u001b[38;5;124;43m'\u001b[39;49m\u001b[38;5;124;43masync_req\u001b[39;49m\u001b[38;5;124;43m'\u001b[39;49m\u001b[43m)\u001b[49m\u001b[43m,\u001b[49m\n\u001b[1;32m   1465\u001b[0m \u001b[43m    \u001b[49m\u001b[43m_return_http_data_only\u001b[49m\u001b[38;5;241;43m=\u001b[39;49m\u001b[43mlocal_var_params\u001b[49m\u001b[38;5;241;43m.\u001b[39;49m\u001b[43mget\u001b[49m\u001b[43m(\u001b[49m\u001b[38;5;124;43m'\u001b[39;49m\u001b[38;5;124;43m_return_http_data_only\u001b[39;49m\u001b[38;5;124;43m'\u001b[39;49m\u001b[43m)\u001b[49m\u001b[43m,\u001b[49m\u001b[43m  \u001b[49m\u001b[38;5;66;43;03m# noqa: E501\u001b[39;49;00m\n\u001b[1;32m   1466\u001b[0m \u001b[43m    \u001b[49m\u001b[43m_preload_content\u001b[49m\u001b[38;5;241;43m=\u001b[39;49m\u001b[43mlocal_var_params\u001b[49m\u001b[38;5;241;43m.\u001b[39;49m\u001b[43mget\u001b[49m\u001b[43m(\u001b[49m\u001b[38;5;124;43m'\u001b[39;49m\u001b[38;5;124;43m_preload_content\u001b[39;49m\u001b[38;5;124;43m'\u001b[39;49m\u001b[43m,\u001b[49m\u001b[43m \u001b[49m\u001b[38;5;28;43;01mTrue\u001b[39;49;00m\u001b[43m)\u001b[49m\u001b[43m,\u001b[49m\n\u001b[1;32m   1467\u001b[0m \u001b[43m    \u001b[49m\u001b[43m_request_timeout\u001b[49m\u001b[38;5;241;43m=\u001b[39;49m\u001b[43mlocal_var_params\u001b[49m\u001b[38;5;241;43m.\u001b[39;49m\u001b[43mget\u001b[49m\u001b[43m(\u001b[49m\u001b[38;5;124;43m'\u001b[39;49m\u001b[38;5;124;43m_request_timeout\u001b[39;49m\u001b[38;5;124;43m'\u001b[39;49m\u001b[43m)\u001b[49m\u001b[43m,\u001b[49m\n\u001b[1;32m   1468\u001b[0m \u001b[43m    \u001b[49m\u001b[43mcollection_formats\u001b[49m\u001b[38;5;241;43m=\u001b[39;49m\u001b[43m{\u001b[49m\u001b[43m}\u001b[49m\u001b[43m,\u001b[49m\n\u001b[1;32m   1469\u001b[0m \u001b[43m    \u001b[49m\u001b[43murlopen_kw\u001b[49m\u001b[38;5;241;43m=\u001b[39;49m\u001b[43mkwargs\u001b[49m\u001b[38;5;241;43m.\u001b[39;49m\u001b[43mget\u001b[49m\u001b[43m(\u001b[49m\u001b[38;5;124;43m'\u001b[39;49m\u001b[38;5;124;43murlopen_kw\u001b[39;49m\u001b[38;5;124;43m'\u001b[39;49m\u001b[43m,\u001b[49m\u001b[43m \u001b[49m\u001b[38;5;28;43;01mNone\u001b[39;49;00m\u001b[43m)\u001b[49m\u001b[43m)\u001b[49m\n",
      "File \u001b[0;32m~/Study/Semester-6/Current Trends and Emerging Technologies/venv/lib/python3.11/site-packages/influxdb_client/_sync/api_client.py:343\u001b[0m, in \u001b[0;36mApiClient.call_api\u001b[0;34m(self, resource_path, method, path_params, query_params, header_params, body, post_params, files, response_type, auth_settings, async_req, _return_http_data_only, collection_formats, _preload_content, _request_timeout, urlopen_kw)\u001b[0m\n\u001b[1;32m    304\u001b[0m \u001b[38;5;250m\u001b[39m\u001b[38;5;124;03m\"\"\"Make the HTTP request (synchronous) and Return deserialized data.\u001b[39;00m\n\u001b[1;32m    305\u001b[0m \n\u001b[1;32m    306\u001b[0m \u001b[38;5;124;03mTo make an async_req request, set the async_req parameter.\u001b[39;00m\n\u001b[0;32m   (...)\u001b[0m\n\u001b[1;32m    340\u001b[0m \u001b[38;5;124;03m    then the method will return the response directly.\u001b[39;00m\n\u001b[1;32m    341\u001b[0m \u001b[38;5;124;03m\"\"\"\u001b[39;00m\n\u001b[1;32m    342\u001b[0m \u001b[38;5;28;01mif\u001b[39;00m \u001b[38;5;129;01mnot\u001b[39;00m async_req:\n\u001b[0;32m--> 343\u001b[0m     \u001b[38;5;28;01mreturn\u001b[39;00m \u001b[38;5;28;43mself\u001b[39;49m\u001b[38;5;241;43m.\u001b[39;49m\u001b[43m__call_api\u001b[49m\u001b[43m(\u001b[49m\u001b[43mresource_path\u001b[49m\u001b[43m,\u001b[49m\u001b[43m \u001b[49m\u001b[43mmethod\u001b[49m\u001b[43m,\u001b[49m\n\u001b[1;32m    344\u001b[0m \u001b[43m                           \u001b[49m\u001b[43mpath_params\u001b[49m\u001b[43m,\u001b[49m\u001b[43m \u001b[49m\u001b[43mquery_params\u001b[49m\u001b[43m,\u001b[49m\u001b[43m \u001b[49m\u001b[43mheader_params\u001b[49m\u001b[43m,\u001b[49m\n\u001b[1;32m    345\u001b[0m \u001b[43m                           \u001b[49m\u001b[43mbody\u001b[49m\u001b[43m,\u001b[49m\u001b[43m \u001b[49m\u001b[43mpost_params\u001b[49m\u001b[43m,\u001b[49m\u001b[43m \u001b[49m\u001b[43mfiles\u001b[49m\u001b[43m,\u001b[49m\n\u001b[1;32m    346\u001b[0m \u001b[43m                           \u001b[49m\u001b[43mresponse_type\u001b[49m\u001b[43m,\u001b[49m\u001b[43m \u001b[49m\u001b[43mauth_settings\u001b[49m\u001b[43m,\u001b[49m\n\u001b[1;32m    347\u001b[0m \u001b[43m                           \u001b[49m\u001b[43m_return_http_data_only\u001b[49m\u001b[43m,\u001b[49m\u001b[43m \u001b[49m\u001b[43mcollection_formats\u001b[49m\u001b[43m,\u001b[49m\n\u001b[1;32m    348\u001b[0m \u001b[43m                           \u001b[49m\u001b[43m_preload_content\u001b[49m\u001b[43m,\u001b[49m\u001b[43m \u001b[49m\u001b[43m_request_timeout\u001b[49m\u001b[43m,\u001b[49m\u001b[43m \u001b[49m\u001b[43murlopen_kw\u001b[49m\u001b[43m)\u001b[49m\n\u001b[1;32m    349\u001b[0m \u001b[38;5;28;01melse\u001b[39;00m:\n\u001b[1;32m    350\u001b[0m     thread \u001b[38;5;241m=\u001b[39m \u001b[38;5;28mself\u001b[39m\u001b[38;5;241m.\u001b[39mpool\u001b[38;5;241m.\u001b[39mapply_async(\u001b[38;5;28mself\u001b[39m\u001b[38;5;241m.\u001b[39m__call_api, (resource_path,\n\u001b[1;32m    351\u001b[0m                                    method, path_params, query_params,\n\u001b[1;32m    352\u001b[0m                                    header_params, body,\n\u001b[0;32m   (...)\u001b[0m\n\u001b[1;32m    356\u001b[0m                                    collection_formats,\n\u001b[1;32m    357\u001b[0m                                    _preload_content, _request_timeout, urlopen_kw))\n",
      "File \u001b[0;32m~/Study/Semester-6/Current Trends and Emerging Technologies/venv/lib/python3.11/site-packages/influxdb_client/_sync/api_client.py:173\u001b[0m, in \u001b[0;36mApiClient.__call_api\u001b[0;34m(self, resource_path, method, path_params, query_params, header_params, body, post_params, files, response_type, auth_settings, _return_http_data_only, collection_formats, _preload_content, _request_timeout, urlopen_kw)\u001b[0m\n\u001b[1;32m    170\u001b[0m urlopen_kw \u001b[38;5;241m=\u001b[39m urlopen_kw \u001b[38;5;129;01mor\u001b[39;00m {}\n\u001b[1;32m    172\u001b[0m \u001b[38;5;66;03m# perform request and return response\u001b[39;00m\n\u001b[0;32m--> 173\u001b[0m response_data \u001b[38;5;241m=\u001b[39m \u001b[38;5;28;43mself\u001b[39;49m\u001b[38;5;241;43m.\u001b[39;49m\u001b[43mrequest\u001b[49m\u001b[43m(\u001b[49m\n\u001b[1;32m    174\u001b[0m \u001b[43m    \u001b[49m\u001b[43mmethod\u001b[49m\u001b[43m,\u001b[49m\u001b[43m \u001b[49m\u001b[43murl\u001b[49m\u001b[43m,\u001b[49m\u001b[43m \u001b[49m\u001b[43mquery_params\u001b[49m\u001b[38;5;241;43m=\u001b[39;49m\u001b[43mquery_params\u001b[49m\u001b[43m,\u001b[49m\u001b[43m \u001b[49m\u001b[43mheaders\u001b[49m\u001b[38;5;241;43m=\u001b[39;49m\u001b[43mheader_params\u001b[49m\u001b[43m,\u001b[49m\n\u001b[1;32m    175\u001b[0m \u001b[43m    \u001b[49m\u001b[43mpost_params\u001b[49m\u001b[38;5;241;43m=\u001b[39;49m\u001b[43mpost_params\u001b[49m\u001b[43m,\u001b[49m\u001b[43m \u001b[49m\u001b[43mbody\u001b[49m\u001b[38;5;241;43m=\u001b[39;49m\u001b[43mbody\u001b[49m\u001b[43m,\u001b[49m\n\u001b[1;32m    176\u001b[0m \u001b[43m    \u001b[49m\u001b[43m_preload_content\u001b[49m\u001b[38;5;241;43m=\u001b[39;49m\u001b[43m_preload_content\u001b[49m\u001b[43m,\u001b[49m\n\u001b[1;32m    177\u001b[0m \u001b[43m    \u001b[49m\u001b[43m_request_timeout\u001b[49m\u001b[38;5;241;43m=\u001b[39;49m\u001b[43m_request_timeout\u001b[49m\u001b[43m,\u001b[49m\u001b[43m \u001b[49m\u001b[38;5;241;43m*\u001b[39;49m\u001b[38;5;241;43m*\u001b[39;49m\u001b[43murlopen_kw\u001b[49m\u001b[43m)\u001b[49m\n\u001b[1;32m    179\u001b[0m \u001b[38;5;28mself\u001b[39m\u001b[38;5;241m.\u001b[39mlast_response \u001b[38;5;241m=\u001b[39m response_data\n\u001b[1;32m    181\u001b[0m return_data \u001b[38;5;241m=\u001b[39m response_data\n",
      "File \u001b[0;32m~/Study/Semester-6/Current Trends and Emerging Technologies/venv/lib/python3.11/site-packages/influxdb_client/_sync/api_client.py:388\u001b[0m, in \u001b[0;36mApiClient.request\u001b[0;34m(self, method, url, query_params, headers, post_params, body, _preload_content, _request_timeout, **urlopen_kw)\u001b[0m\n\u001b[1;32m    379\u001b[0m     \u001b[38;5;28;01mreturn\u001b[39;00m \u001b[38;5;28mself\u001b[39m\u001b[38;5;241m.\u001b[39mrest_client\u001b[38;5;241m.\u001b[39mOPTIONS(url,\n\u001b[1;32m    380\u001b[0m                                     query_params\u001b[38;5;241m=\u001b[39mquery_params,\n\u001b[1;32m    381\u001b[0m                                     headers\u001b[38;5;241m=\u001b[39mheaders,\n\u001b[0;32m   (...)\u001b[0m\n\u001b[1;32m    385\u001b[0m                                     body\u001b[38;5;241m=\u001b[39mbody,\n\u001b[1;32m    386\u001b[0m                                     \u001b[38;5;241m*\u001b[39m\u001b[38;5;241m*\u001b[39murlopen_kw)\n\u001b[1;32m    387\u001b[0m \u001b[38;5;28;01melif\u001b[39;00m method \u001b[38;5;241m==\u001b[39m \u001b[38;5;124m\"\u001b[39m\u001b[38;5;124mPOST\u001b[39m\u001b[38;5;124m\"\u001b[39m:\n\u001b[0;32m--> 388\u001b[0m     \u001b[38;5;28;01mreturn\u001b[39;00m \u001b[38;5;28;43mself\u001b[39;49m\u001b[38;5;241;43m.\u001b[39;49m\u001b[43mrest_client\u001b[49m\u001b[38;5;241;43m.\u001b[39;49m\u001b[43mPOST\u001b[49m\u001b[43m(\u001b[49m\u001b[43murl\u001b[49m\u001b[43m,\u001b[49m\n\u001b[1;32m    389\u001b[0m \u001b[43m                                 \u001b[49m\u001b[43mquery_params\u001b[49m\u001b[38;5;241;43m=\u001b[39;49m\u001b[43mquery_params\u001b[49m\u001b[43m,\u001b[49m\n\u001b[1;32m    390\u001b[0m \u001b[43m                                 \u001b[49m\u001b[43mheaders\u001b[49m\u001b[38;5;241;43m=\u001b[39;49m\u001b[43mheaders\u001b[49m\u001b[43m,\u001b[49m\n\u001b[1;32m    391\u001b[0m \u001b[43m                                 \u001b[49m\u001b[43mpost_params\u001b[49m\u001b[38;5;241;43m=\u001b[39;49m\u001b[43mpost_params\u001b[49m\u001b[43m,\u001b[49m\n\u001b[1;32m    392\u001b[0m \u001b[43m                                 \u001b[49m\u001b[43m_preload_content\u001b[49m\u001b[38;5;241;43m=\u001b[39;49m\u001b[43m_preload_content\u001b[49m\u001b[43m,\u001b[49m\n\u001b[1;32m    393\u001b[0m \u001b[43m                                 \u001b[49m\u001b[43m_request_timeout\u001b[49m\u001b[38;5;241;43m=\u001b[39;49m\u001b[43m_request_timeout\u001b[49m\u001b[43m,\u001b[49m\n\u001b[1;32m    394\u001b[0m \u001b[43m                                 \u001b[49m\u001b[43mbody\u001b[49m\u001b[38;5;241;43m=\u001b[39;49m\u001b[43mbody\u001b[49m\u001b[43m,\u001b[49m\n\u001b[1;32m    395\u001b[0m \u001b[43m                                 \u001b[49m\u001b[38;5;241;43m*\u001b[39;49m\u001b[38;5;241;43m*\u001b[39;49m\u001b[43murlopen_kw\u001b[49m\u001b[43m)\u001b[49m\n\u001b[1;32m    396\u001b[0m \u001b[38;5;28;01melif\u001b[39;00m method \u001b[38;5;241m==\u001b[39m \u001b[38;5;124m\"\u001b[39m\u001b[38;5;124mPUT\u001b[39m\u001b[38;5;124m\"\u001b[39m:\n\u001b[1;32m    397\u001b[0m     \u001b[38;5;28;01mreturn\u001b[39;00m \u001b[38;5;28mself\u001b[39m\u001b[38;5;241m.\u001b[39mrest_client\u001b[38;5;241m.\u001b[39mPUT(url,\n\u001b[1;32m    398\u001b[0m                                 query_params\u001b[38;5;241m=\u001b[39mquery_params,\n\u001b[1;32m    399\u001b[0m                                 headers\u001b[38;5;241m=\u001b[39mheaders,\n\u001b[0;32m   (...)\u001b[0m\n\u001b[1;32m    403\u001b[0m                                 body\u001b[38;5;241m=\u001b[39mbody,\n\u001b[1;32m    404\u001b[0m                                 \u001b[38;5;241m*\u001b[39m\u001b[38;5;241m*\u001b[39murlopen_kw)\n",
      "File \u001b[0;32m~/Study/Semester-6/Current Trends and Emerging Technologies/venv/lib/python3.11/site-packages/influxdb_client/_sync/rest.py:311\u001b[0m, in \u001b[0;36mRESTClientObject.POST\u001b[0;34m(self, url, headers, query_params, post_params, body, _preload_content, _request_timeout, **urlopen_kw)\u001b[0m\n\u001b[1;32m    308\u001b[0m \u001b[38;5;28;01mdef\u001b[39;00m \u001b[38;5;21mPOST\u001b[39m(\u001b[38;5;28mself\u001b[39m, url, headers\u001b[38;5;241m=\u001b[39m\u001b[38;5;28;01mNone\u001b[39;00m, query_params\u001b[38;5;241m=\u001b[39m\u001b[38;5;28;01mNone\u001b[39;00m, post_params\u001b[38;5;241m=\u001b[39m\u001b[38;5;28;01mNone\u001b[39;00m,\n\u001b[1;32m    309\u001b[0m          body\u001b[38;5;241m=\u001b[39m\u001b[38;5;28;01mNone\u001b[39;00m, _preload_content\u001b[38;5;241m=\u001b[39m\u001b[38;5;28;01mTrue\u001b[39;00m, _request_timeout\u001b[38;5;241m=\u001b[39m\u001b[38;5;28;01mNone\u001b[39;00m, \u001b[38;5;241m*\u001b[39m\u001b[38;5;241m*\u001b[39murlopen_kw):\n\u001b[1;32m    310\u001b[0m \u001b[38;5;250m    \u001b[39m\u001b[38;5;124;03m\"\"\"Perform POST HTTP request.\"\"\"\u001b[39;00m\n\u001b[0;32m--> 311\u001b[0m     \u001b[38;5;28;01mreturn\u001b[39;00m \u001b[38;5;28;43mself\u001b[39;49m\u001b[38;5;241;43m.\u001b[39;49m\u001b[43mrequest\u001b[49m\u001b[43m(\u001b[49m\u001b[38;5;124;43m\"\u001b[39;49m\u001b[38;5;124;43mPOST\u001b[39;49m\u001b[38;5;124;43m\"\u001b[39;49m\u001b[43m,\u001b[49m\u001b[43m \u001b[49m\u001b[43murl\u001b[49m\u001b[43m,\u001b[49m\n\u001b[1;32m    312\u001b[0m \u001b[43m                        \u001b[49m\u001b[43mheaders\u001b[49m\u001b[38;5;241;43m=\u001b[39;49m\u001b[43mheaders\u001b[49m\u001b[43m,\u001b[49m\n\u001b[1;32m    313\u001b[0m \u001b[43m                        \u001b[49m\u001b[43mquery_params\u001b[49m\u001b[38;5;241;43m=\u001b[39;49m\u001b[43mquery_params\u001b[49m\u001b[43m,\u001b[49m\n\u001b[1;32m    314\u001b[0m \u001b[43m                        \u001b[49m\u001b[43mpost_params\u001b[49m\u001b[38;5;241;43m=\u001b[39;49m\u001b[43mpost_params\u001b[49m\u001b[43m,\u001b[49m\n\u001b[1;32m    315\u001b[0m \u001b[43m                        \u001b[49m\u001b[43m_preload_content\u001b[49m\u001b[38;5;241;43m=\u001b[39;49m\u001b[43m_preload_content\u001b[49m\u001b[43m,\u001b[49m\n\u001b[1;32m    316\u001b[0m \u001b[43m                        \u001b[49m\u001b[43m_request_timeout\u001b[49m\u001b[38;5;241;43m=\u001b[39;49m\u001b[43m_request_timeout\u001b[49m\u001b[43m,\u001b[49m\n\u001b[1;32m    317\u001b[0m \u001b[43m                        \u001b[49m\u001b[43mbody\u001b[49m\u001b[38;5;241;43m=\u001b[39;49m\u001b[43mbody\u001b[49m\u001b[43m,\u001b[49m\n\u001b[1;32m    318\u001b[0m \u001b[43m                        \u001b[49m\u001b[38;5;241;43m*\u001b[39;49m\u001b[38;5;241;43m*\u001b[39;49m\u001b[43murlopen_kw\u001b[49m\u001b[43m)\u001b[49m\n",
      "File \u001b[0;32m~/Study/Semester-6/Current Trends and Emerging Technologies/venv/lib/python3.11/site-packages/influxdb_client/_sync/rest.py:261\u001b[0m, in \u001b[0;36mRESTClientObject.request\u001b[0;34m(self, method, url, query_params, headers, body, post_params, _preload_content, _request_timeout, **urlopen_kw)\u001b[0m\n\u001b[1;32m    258\u001b[0m     _BaseRESTClient\u001b[38;5;241m.\u001b[39mlog_body(r\u001b[38;5;241m.\u001b[39mdata, \u001b[38;5;124m'\u001b[39m\u001b[38;5;124m<<<\u001b[39m\u001b[38;5;124m'\u001b[39m)\n\u001b[1;32m    260\u001b[0m \u001b[38;5;28;01mif\u001b[39;00m \u001b[38;5;129;01mnot\u001b[39;00m \u001b[38;5;241m200\u001b[39m \u001b[38;5;241m<\u001b[39m\u001b[38;5;241m=\u001b[39m r\u001b[38;5;241m.\u001b[39mstatus \u001b[38;5;241m<\u001b[39m\u001b[38;5;241m=\u001b[39m \u001b[38;5;241m299\u001b[39m:\n\u001b[0;32m--> 261\u001b[0m     \u001b[38;5;28;01mraise\u001b[39;00m ApiException(http_resp\u001b[38;5;241m=\u001b[39mr)\n\u001b[1;32m    263\u001b[0m \u001b[38;5;28;01mreturn\u001b[39;00m r\n",
      "\u001b[0;31mApiException\u001b[0m: (422)\nReason: Unprocessable Entity\nHTTP response headers: HTTPHeaderDict({'Content-Type': 'application/json; charset=utf-8', 'X-Influxdb-Build': 'OSS', 'X-Influxdb-Version': 'v2.7.5', 'X-Platform-Error-Code': 'conflict', 'Date': 'Mon, 19 Feb 2024 13:53:02 GMT', 'Content-Length': '84'})\nHTTP response body: {\n\t\"code\": \"conflict\",\n\t\"message\": \"bucket with name myFirstBucket already exists\"\n}\n"
     ]
    }
   ],
   "source": [
    "bucket_api.create_bucket(bucket_name=\"myFirstBucket\",org_id=\"primary\",retention_rules=[BucketRetentionRules(every_seconds=60*60)])  #create bucket with retention rule"
   ]
  },
  {
   "cell_type": "markdown",
   "id": "a8e97adc-87ee-423f-aa85-5e798879ffc6",
   "metadata": {},
   "source": [
    "Minimum retention time is 1h!"
   ]
  },
  {
   "cell_type": "markdown",
   "id": "75453ed5-5f39-4778-9339-0171634d8339",
   "metadata": {},
   "source": [
    "**Cross Check now in the User Interface**"
   ]
  },
  {
   "cell_type": "markdown",
   "id": "a3c54c15-1f72-4c34-a454-2be9e1fcc812",
   "metadata": {},
   "source": [
    "# Write Data"
   ]
  },
  {
   "cell_type": "code",
   "execution_count": null,
   "id": "e98dfacd-2e18-49d8-b3c4-5f8988ec276c",
   "metadata": {},
   "outputs": [
    {
     "name": "stderr",
     "output_type": "stream",
     "text": [
      "The batch item wasn't processed successfully because: (400)\n",
      "Reason: Bad Request\n",
      "HTTP response headers: HTTPHeaderDict({'Content-Type': 'application/json; charset=utf-8', 'X-Influxdb-Build': 'OSS', 'X-Influxdb-Version': 'v2.7.5', 'X-Platform-Error-Code': 'invalid', 'Date': 'Mon, 19 Feb 2024 13:49:58 GMT', 'Content-Length': '115'})\n",
      "HTTP response body: {\"code\":\"invalid\",\"message\":\"unable to parse 'myMeasurement,mytag=value joint1=1, joint2=2': invalid field format\"}\n",
      "\n",
      "The batch item wasn't processed successfully because: (400)\n",
      "Reason: Bad Request\n",
      "HTTP response headers: HTTPHeaderDict({'Content-Type': 'application/json; charset=utf-8', 'X-Influxdb-Build': 'OSS', 'X-Influxdb-Version': 'v2.7.5', 'X-Platform-Error-Code': 'invalid', 'Date': 'Mon, 19 Feb 2024 13:50:19 GMT', 'Content-Length': '115'})\n",
      "HTTP response body: {\"code\":\"invalid\",\"message\":\"unable to parse 'myMeasurement,mytag=value joint1=1, joint2=2': invalid field format\"}\n",
      "\n",
      "The batch item wasn't processed successfully because: (400)\n",
      "Reason: Bad Request\n",
      "HTTP response headers: HTTPHeaderDict({'Content-Type': 'application/json; charset=utf-8', 'X-Influxdb-Build': 'OSS', 'X-Influxdb-Version': 'v2.7.5', 'X-Platform-Error-Code': 'invalid', 'Date': 'Mon, 19 Feb 2024 13:51:38 GMT', 'Content-Length': '115'})\n",
      "HTTP response body: {\"code\":\"invalid\",\"message\":\"unable to parse 'myMeasurement,mytag=value joint1=1, joint2=2': invalid field format\"}\n",
      "\n",
      "The batch item wasn't processed successfully because: (400)\n",
      "Reason: Bad Request\n",
      "HTTP response headers: HTTPHeaderDict({'Content-Type': 'application/json; charset=utf-8', 'X-Influxdb-Build': 'OSS', 'X-Influxdb-Version': 'v2.7.5', 'X-Platform-Error-Code': 'invalid', 'Date': 'Mon, 19 Feb 2024 13:55:02 GMT', 'Content-Length': '194'})\n",
      "HTTP response body: {\"code\":\"invalid\",\"message\":\"unable to parse 'robot,mytag=value joint1=1, joint2=2': invalid field format\\nunable to parse 'robot,location=robotcell joint1=11, joint2=22': invalid field format\"}\n",
      "\n",
      "The batch item wasn't processed successfully because: (400)\n",
      "Reason: Bad Request\n",
      "HTTP response headers: HTTPHeaderDict({'Content-Type': 'application/json; charset=utf-8', 'X-Influxdb-Build': 'OSS', 'X-Influxdb-Version': 'v2.7.5', 'X-Platform-Error-Code': 'invalid', 'Date': 'Mon, 19 Feb 2024 13:55:13 GMT', 'Content-Length': '116'})\n",
      "HTTP response body: {\"code\":\"invalid\",\"message\":\"unable to parse 'robot,location=robotcell joint1=11, joint2=22': invalid field format\"}\n",
      "\n"
     ]
    }
   ],
   "source": [
    "write_api = client.write_api()"
   ]
  },
  {
   "cell_type": "markdown",
   "id": "706e8c6e-fb9c-4fc6-9957-0bd840d5d239",
   "metadata": {},
   "source": [
    "A bucket is a named location where time series data is stored. All buckets have a retention period, a duration of time that each data point persists. InfluxDB drops all points with timestamps older than the bucket’s retention period. A bucket belongs to an organization."
   ]
  },
  {
   "cell_type": "markdown",
   "id": "ccc884a8-7898-4e92-8cb3-32b1e5402c0d",
   "metadata": {},
   "source": [
    "Syntax:\n",
    "\n",
    "```<measurement>[,<tag_key>=<tag_value>[,<tag_key>=<tag_value>]] <field_key>=<field_value>[,<field_key>=<field_value>] [<timestamp>]```"
   ]
  },
  {
   "cell_type": "code",
   "execution_count": null,
   "id": "ff3811a7-b597-4806-8c31-7fea6a69fee7",
   "metadata": {},
   "outputs": [],
   "source": [
    "write_api.write(\"myFirstBucket\", \"primary\", [\"myMeasurement,location=coyote_creek water_level=11.4\"]) # bucket, organization, measurement: h2o_feet,  location: coyote_creek"
   ]
  },
  {
   "cell_type": "markdown",
   "id": "5529f3ea-1fd8-4404-85da-81b0123fd5ac",
   "metadata": {},
   "source": [
    "measurement: h2o_feet\n",
    "\n",
    "location: coyote_creek\n",
    "\n",
    "field: water_level"
   ]
  },
  {
   "cell_type": "markdown",
   "id": "fb7d5aa1-f49c-4454-9286-6fc20a751a94",
   "metadata": {},
   "source": [
    "Add multiple filed by using `,`"
   ]
  },
  {
   "cell_type": "markdown",
   "id": "cc23128a-0fa4-4bb4-bab1-8d75b384f3ee",
   "metadata": {},
   "source": [
    "**What is a tag?**"
   ]
  },
  {
   "cell_type": "code",
   "execution_count": null,
   "id": "bafcde60-c2e3-468b-824c-2e9d9c02de67",
   "metadata": {},
   "outputs": [],
   "source": [
    "write_api.write(\"myFirstBucket\", \"primary\", [\"myMeasurement,mytag=a_tag_value temperature=2\"])  #send data with tag"
   ]
  },
  {
   "cell_type": "code",
   "execution_count": null,
   "id": "7a766e37-b06c-43fc-a28d-e3e3e366a0b9",
   "metadata": {},
   "outputs": [],
   "source": [
    "write_api.write(\"myFirstBucket\", \"primary\", [\"myMeasurement,mytag=a_tag_value temperature=12\"]) #send data with tag"
   ]
  },
  {
   "cell_type": "markdown",
   "id": "d085338b-8817-4926-bd9f-98eada45a30d",
   "metadata": {},
   "source": [
    "Attention: if sent too fast, they are aggregated!"
   ]
  },
  {
   "cell_type": "markdown",
   "id": "ff6a016e-89ea-4edf-8d3e-975075022f3e",
   "metadata": {},
   "source": [
    "Create a loop for publishing multiple data-points"
   ]
  },
  {
   "cell_type": "code",
   "execution_count": null,
   "id": "2794a68a-073b-494f-b48b-6bd9523fc8cc",
   "metadata": {},
   "outputs": [],
   "source": [
    "for i in range(1,10):\n",
    "    write_api.write(\"myFirstBucket\", \"primary\", [\"robotsensor,location=robotcell temperature={0},humidity={1}\".format(random.random()*10,random.random())])\n",
    "    time.sleep(1)"
   ]
  },
  {
   "cell_type": "markdown",
   "id": "e51902da-9789-43ea-9a39-791d2153a489",
   "metadata": {},
   "source": [
    "This is already hard to read. So the api provides a build-pattern mechanism."
   ]
  },
  {
   "cell_type": "code",
   "execution_count": null,
   "id": "5e593ac5-614f-4d10-9e36-a55694f84be3",
   "metadata": {},
   "outputs": [],
   "source": [
    "p = influxdb_client.Point(\"robotsensor\").tag(\"location\", \"robotcell\").tag(\"qos\", \"2\").field(\"temperature\", 20.)\n",
    "write_api.write(bucket=\"myFirstBucket\", org=\"primary\", record=p)"
   ]
  },
  {
   "cell_type": "markdown",
   "id": "ea856b78-9ca1-448a-9986-5d96abb16f10",
   "metadata": {},
   "source": [
    "Fields are data and tags are metadata"
   ]
  },
  {
   "cell_type": "markdown",
   "id": "dd5d86b4-3ea0-4e35-ab70-f5afb7c6166e",
   "metadata": {},
   "source": [
    "## Query"
   ]
  },
  {
   "cell_type": "code",
   "execution_count": null,
   "id": "59f5394c-ff20-4aa2-a19d-da2c5959894a",
   "metadata": {},
   "outputs": [],
   "source": [
    "query_api =client.query_api()"
   ]
  },
  {
   "cell_type": "code",
   "execution_count": null,
   "id": "48cc713c-603f-4551-9f14-8acff877d4f3",
   "metadata": {},
   "outputs": [],
   "source": [
    "tables=query_api.query('from(bucket:\"myFirstBucket\") |> range(start: -10m)')  #last 10 minutes"
   ]
  },
  {
   "cell_type": "markdown",
   "id": "562d40ea-a316-4d2b-ae3d-f00973aaf39a",
   "metadata": {},
   "source": [
    "Here, we get all fields!"
   ]
  },
  {
   "cell_type": "code",
   "execution_count": null,
   "id": "12699c59-8293-4265-8c10-4066c65104c0",
   "metadata": {},
   "outputs": [
    {
     "name": "stdout",
     "output_type": "stream",
     "text": [
      "FluxTable() columns: 10, records: 1\n",
      "{'result': '_result', 'table': 0, '_start': datetime.datetime(2024, 2, 19, 13, 35, 5, 889181, tzinfo=tzutc()), '_stop': datetime.datetime(2024, 2, 19, 13, 45, 5, 889181, tzinfo=tzutc()), '_time': datetime.datetime(2024, 2, 19, 13, 44, 26, 952759, tzinfo=tzutc()), '_value': 20.0, '_field': 'temperature', '_measurement': 'robotsensor', 'location': 'robotcell', 'qos': '2'}\n"
     ]
    }
   ],
   "source": [
    "for table in tables:\n",
    "    print(table)\n",
    "    for row in table.records:\n",
    "        print (row.values)"
   ]
  },
  {
   "cell_type": "markdown",
   "id": "21edd354-bacf-48be-89ae-4288ffa1707d",
   "metadata": {},
   "source": [
    "**Might be hard to read: convert that to a pandas**"
   ]
  },
  {
   "cell_type": "code",
   "execution_count": null,
   "id": "dbb9aa01-b478-4525-b840-7c06c7bf1ad0",
   "metadata": {},
   "outputs": [
    {
     "name": "stderr",
     "output_type": "stream",
     "text": [
      "/home/dinu/Study/Semester-6/Current Trends and Emerging Technologies/venv/lib/python3.11/site-packages/influxdb_client/client/warnings.py:31: MissingPivotFunction: The query doesn't contains the pivot() function.\n",
      "\n",
      "The result will not be shaped to optimal processing by pandas.DataFrame. Use the pivot() function by:\n",
      "\n",
      "    from(bucket:\"myFirstBucket\") |> range(start: -20m) |> pivot(rowKey:[\"_time\"], columnKey: [\"_field\"], valueColumn: \"_value\")\n",
      "\n",
      "You can disable this warning by:\n",
      "    import warnings\n",
      "    from influxdb_client.client.warnings import MissingPivotFunction\n",
      "\n",
      "    warnings.simplefilter(\"ignore\", MissingPivotFunction)\n",
      "\n",
      "For more info see:\n",
      "    - https://docs.influxdata.com/resources/videos/pivots-in-flux/\n",
      "    - https://docs.influxdata.com/flux/latest/stdlib/universe/pivot/\n",
      "    - https://docs.influxdata.com/flux/latest/stdlib/influxdata/influxdb/schema/fieldsascols/\n",
      "\n",
      "  warnings.warn(message, MissingPivotFunction)\n"
     ]
    },
    {
     "data": {
      "text/html": [
       "<div>\n",
       "<style scoped>\n",
       "    .dataframe tbody tr th:only-of-type {\n",
       "        vertical-align: middle;\n",
       "    }\n",
       "\n",
       "    .dataframe tbody tr th {\n",
       "        vertical-align: top;\n",
       "    }\n",
       "\n",
       "    .dataframe thead th {\n",
       "        text-align: right;\n",
       "    }\n",
       "</style>\n",
       "<table border=\"1\" class=\"dataframe\">\n",
       "  <thead>\n",
       "    <tr style=\"text-align: right;\">\n",
       "      <th></th>\n",
       "      <th>result</th>\n",
       "      <th>table</th>\n",
       "      <th>_start</th>\n",
       "      <th>_stop</th>\n",
       "      <th>_time</th>\n",
       "      <th>_value</th>\n",
       "      <th>_field</th>\n",
       "      <th>_measurement</th>\n",
       "      <th>location</th>\n",
       "    </tr>\n",
       "  </thead>\n",
       "  <tbody>\n",
       "    <tr>\n",
       "      <th>0</th>\n",
       "      <td>_result</td>\n",
       "      <td>0</td>\n",
       "      <td>2024-02-19 13:25:39.197821+00:00</td>\n",
       "      <td>2024-02-19 13:45:39.197821+00:00</td>\n",
       "      <td>2024-02-19 13:26:44.185761+00:00</td>\n",
       "      <td>0.544757</td>\n",
       "      <td>humidity</td>\n",
       "      <td>robotsensor</td>\n",
       "      <td>robotcell</td>\n",
       "    </tr>\n",
       "    <tr>\n",
       "      <th>1</th>\n",
       "      <td>_result</td>\n",
       "      <td>0</td>\n",
       "      <td>2024-02-19 13:25:39.197821+00:00</td>\n",
       "      <td>2024-02-19 13:45:39.197821+00:00</td>\n",
       "      <td>2024-02-19 13:26:45.186627+00:00</td>\n",
       "      <td>0.798996</td>\n",
       "      <td>humidity</td>\n",
       "      <td>robotsensor</td>\n",
       "      <td>robotcell</td>\n",
       "    </tr>\n",
       "    <tr>\n",
       "      <th>2</th>\n",
       "      <td>_result</td>\n",
       "      <td>0</td>\n",
       "      <td>2024-02-19 13:25:39.197821+00:00</td>\n",
       "      <td>2024-02-19 13:45:39.197821+00:00</td>\n",
       "      <td>2024-02-19 13:26:46.188060+00:00</td>\n",
       "      <td>0.399321</td>\n",
       "      <td>humidity</td>\n",
       "      <td>robotsensor</td>\n",
       "      <td>robotcell</td>\n",
       "    </tr>\n",
       "    <tr>\n",
       "      <th>3</th>\n",
       "      <td>_result</td>\n",
       "      <td>0</td>\n",
       "      <td>2024-02-19 13:25:39.197821+00:00</td>\n",
       "      <td>2024-02-19 13:45:39.197821+00:00</td>\n",
       "      <td>2024-02-19 13:26:47.189257+00:00</td>\n",
       "      <td>0.330867</td>\n",
       "      <td>humidity</td>\n",
       "      <td>robotsensor</td>\n",
       "      <td>robotcell</td>\n",
       "    </tr>\n",
       "    <tr>\n",
       "      <th>4</th>\n",
       "      <td>_result</td>\n",
       "      <td>0</td>\n",
       "      <td>2024-02-19 13:25:39.197821+00:00</td>\n",
       "      <td>2024-02-19 13:45:39.197821+00:00</td>\n",
       "      <td>2024-02-19 13:26:48.190149+00:00</td>\n",
       "      <td>0.828383</td>\n",
       "      <td>humidity</td>\n",
       "      <td>robotsensor</td>\n",
       "      <td>robotcell</td>\n",
       "    </tr>\n",
       "    <tr>\n",
       "      <th>5</th>\n",
       "      <td>_result</td>\n",
       "      <td>0</td>\n",
       "      <td>2024-02-19 13:25:39.197821+00:00</td>\n",
       "      <td>2024-02-19 13:45:39.197821+00:00</td>\n",
       "      <td>2024-02-19 13:26:49.191433+00:00</td>\n",
       "      <td>0.637324</td>\n",
       "      <td>humidity</td>\n",
       "      <td>robotsensor</td>\n",
       "      <td>robotcell</td>\n",
       "    </tr>\n",
       "    <tr>\n",
       "      <th>6</th>\n",
       "      <td>_result</td>\n",
       "      <td>0</td>\n",
       "      <td>2024-02-19 13:25:39.197821+00:00</td>\n",
       "      <td>2024-02-19 13:45:39.197821+00:00</td>\n",
       "      <td>2024-02-19 13:26:50.193550+00:00</td>\n",
       "      <td>0.132214</td>\n",
       "      <td>humidity</td>\n",
       "      <td>robotsensor</td>\n",
       "      <td>robotcell</td>\n",
       "    </tr>\n",
       "    <tr>\n",
       "      <th>7</th>\n",
       "      <td>_result</td>\n",
       "      <td>0</td>\n",
       "      <td>2024-02-19 13:25:39.197821+00:00</td>\n",
       "      <td>2024-02-19 13:45:39.197821+00:00</td>\n",
       "      <td>2024-02-19 13:26:51.194741+00:00</td>\n",
       "      <td>0.237691</td>\n",
       "      <td>humidity</td>\n",
       "      <td>robotsensor</td>\n",
       "      <td>robotcell</td>\n",
       "    </tr>\n",
       "    <tr>\n",
       "      <th>8</th>\n",
       "      <td>_result</td>\n",
       "      <td>0</td>\n",
       "      <td>2024-02-19 13:25:39.197821+00:00</td>\n",
       "      <td>2024-02-19 13:45:39.197821+00:00</td>\n",
       "      <td>2024-02-19 13:26:52.194095+00:00</td>\n",
       "      <td>0.362900</td>\n",
       "      <td>humidity</td>\n",
       "      <td>robotsensor</td>\n",
       "      <td>robotcell</td>\n",
       "    </tr>\n",
       "    <tr>\n",
       "      <th>9</th>\n",
       "      <td>_result</td>\n",
       "      <td>0</td>\n",
       "      <td>2024-02-19 13:25:39.197821+00:00</td>\n",
       "      <td>2024-02-19 13:45:39.197821+00:00</td>\n",
       "      <td>2024-02-19 13:27:55.238935+00:00</td>\n",
       "      <td>0.300612</td>\n",
       "      <td>humidity</td>\n",
       "      <td>robotsensor</td>\n",
       "      <td>robotcell</td>\n",
       "    </tr>\n",
       "    <tr>\n",
       "      <th>10</th>\n",
       "      <td>_result</td>\n",
       "      <td>0</td>\n",
       "      <td>2024-02-19 13:25:39.197821+00:00</td>\n",
       "      <td>2024-02-19 13:45:39.197821+00:00</td>\n",
       "      <td>2024-02-19 13:27:56.240042+00:00</td>\n",
       "      <td>0.507487</td>\n",
       "      <td>humidity</td>\n",
       "      <td>robotsensor</td>\n",
       "      <td>robotcell</td>\n",
       "    </tr>\n",
       "    <tr>\n",
       "      <th>11</th>\n",
       "      <td>_result</td>\n",
       "      <td>0</td>\n",
       "      <td>2024-02-19 13:25:39.197821+00:00</td>\n",
       "      <td>2024-02-19 13:45:39.197821+00:00</td>\n",
       "      <td>2024-02-19 13:27:57.241809+00:00</td>\n",
       "      <td>0.862199</td>\n",
       "      <td>humidity</td>\n",
       "      <td>robotsensor</td>\n",
       "      <td>robotcell</td>\n",
       "    </tr>\n",
       "    <tr>\n",
       "      <th>12</th>\n",
       "      <td>_result</td>\n",
       "      <td>0</td>\n",
       "      <td>2024-02-19 13:25:39.197821+00:00</td>\n",
       "      <td>2024-02-19 13:45:39.197821+00:00</td>\n",
       "      <td>2024-02-19 13:27:58.242740+00:00</td>\n",
       "      <td>0.376526</td>\n",
       "      <td>humidity</td>\n",
       "      <td>robotsensor</td>\n",
       "      <td>robotcell</td>\n",
       "    </tr>\n",
       "    <tr>\n",
       "      <th>13</th>\n",
       "      <td>_result</td>\n",
       "      <td>0</td>\n",
       "      <td>2024-02-19 13:25:39.197821+00:00</td>\n",
       "      <td>2024-02-19 13:45:39.197821+00:00</td>\n",
       "      <td>2024-02-19 13:27:59.243929+00:00</td>\n",
       "      <td>0.240149</td>\n",
       "      <td>humidity</td>\n",
       "      <td>robotsensor</td>\n",
       "      <td>robotcell</td>\n",
       "    </tr>\n",
       "    <tr>\n",
       "      <th>14</th>\n",
       "      <td>_result</td>\n",
       "      <td>0</td>\n",
       "      <td>2024-02-19 13:25:39.197821+00:00</td>\n",
       "      <td>2024-02-19 13:45:39.197821+00:00</td>\n",
       "      <td>2024-02-19 13:28:00.245220+00:00</td>\n",
       "      <td>0.481225</td>\n",
       "      <td>humidity</td>\n",
       "      <td>robotsensor</td>\n",
       "      <td>robotcell</td>\n",
       "    </tr>\n",
       "    <tr>\n",
       "      <th>15</th>\n",
       "      <td>_result</td>\n",
       "      <td>0</td>\n",
       "      <td>2024-02-19 13:25:39.197821+00:00</td>\n",
       "      <td>2024-02-19 13:45:39.197821+00:00</td>\n",
       "      <td>2024-02-19 13:28:01.246248+00:00</td>\n",
       "      <td>0.505329</td>\n",
       "      <td>humidity</td>\n",
       "      <td>robotsensor</td>\n",
       "      <td>robotcell</td>\n",
       "    </tr>\n",
       "    <tr>\n",
       "      <th>16</th>\n",
       "      <td>_result</td>\n",
       "      <td>0</td>\n",
       "      <td>2024-02-19 13:25:39.197821+00:00</td>\n",
       "      <td>2024-02-19 13:45:39.197821+00:00</td>\n",
       "      <td>2024-02-19 13:28:02.248247+00:00</td>\n",
       "      <td>0.951177</td>\n",
       "      <td>humidity</td>\n",
       "      <td>robotsensor</td>\n",
       "      <td>robotcell</td>\n",
       "    </tr>\n",
       "    <tr>\n",
       "      <th>17</th>\n",
       "      <td>_result</td>\n",
       "      <td>0</td>\n",
       "      <td>2024-02-19 13:25:39.197821+00:00</td>\n",
       "      <td>2024-02-19 13:45:39.197821+00:00</td>\n",
       "      <td>2024-02-19 13:28:03.249015+00:00</td>\n",
       "      <td>0.810440</td>\n",
       "      <td>humidity</td>\n",
       "      <td>robotsensor</td>\n",
       "      <td>robotcell</td>\n",
       "    </tr>\n",
       "    <tr>\n",
       "      <th>18</th>\n",
       "      <td>_result</td>\n",
       "      <td>1</td>\n",
       "      <td>2024-02-19 13:25:39.197821+00:00</td>\n",
       "      <td>2024-02-19 13:45:39.197821+00:00</td>\n",
       "      <td>2024-02-19 13:26:44.185761+00:00</td>\n",
       "      <td>7.984835</td>\n",
       "      <td>temperature</td>\n",
       "      <td>robotsensor</td>\n",
       "      <td>robotcell</td>\n",
       "    </tr>\n",
       "    <tr>\n",
       "      <th>19</th>\n",
       "      <td>_result</td>\n",
       "      <td>1</td>\n",
       "      <td>2024-02-19 13:25:39.197821+00:00</td>\n",
       "      <td>2024-02-19 13:45:39.197821+00:00</td>\n",
       "      <td>2024-02-19 13:26:45.186627+00:00</td>\n",
       "      <td>1.491842</td>\n",
       "      <td>temperature</td>\n",
       "      <td>robotsensor</td>\n",
       "      <td>robotcell</td>\n",
       "    </tr>\n",
       "    <tr>\n",
       "      <th>20</th>\n",
       "      <td>_result</td>\n",
       "      <td>1</td>\n",
       "      <td>2024-02-19 13:25:39.197821+00:00</td>\n",
       "      <td>2024-02-19 13:45:39.197821+00:00</td>\n",
       "      <td>2024-02-19 13:26:46.188060+00:00</td>\n",
       "      <td>2.005231</td>\n",
       "      <td>temperature</td>\n",
       "      <td>robotsensor</td>\n",
       "      <td>robotcell</td>\n",
       "    </tr>\n",
       "    <tr>\n",
       "      <th>21</th>\n",
       "      <td>_result</td>\n",
       "      <td>1</td>\n",
       "      <td>2024-02-19 13:25:39.197821+00:00</td>\n",
       "      <td>2024-02-19 13:45:39.197821+00:00</td>\n",
       "      <td>2024-02-19 13:26:47.189257+00:00</td>\n",
       "      <td>2.971393</td>\n",
       "      <td>temperature</td>\n",
       "      <td>robotsensor</td>\n",
       "      <td>robotcell</td>\n",
       "    </tr>\n",
       "    <tr>\n",
       "      <th>22</th>\n",
       "      <td>_result</td>\n",
       "      <td>1</td>\n",
       "      <td>2024-02-19 13:25:39.197821+00:00</td>\n",
       "      <td>2024-02-19 13:45:39.197821+00:00</td>\n",
       "      <td>2024-02-19 13:26:48.190149+00:00</td>\n",
       "      <td>4.077837</td>\n",
       "      <td>temperature</td>\n",
       "      <td>robotsensor</td>\n",
       "      <td>robotcell</td>\n",
       "    </tr>\n",
       "    <tr>\n",
       "      <th>23</th>\n",
       "      <td>_result</td>\n",
       "      <td>1</td>\n",
       "      <td>2024-02-19 13:25:39.197821+00:00</td>\n",
       "      <td>2024-02-19 13:45:39.197821+00:00</td>\n",
       "      <td>2024-02-19 13:26:49.191433+00:00</td>\n",
       "      <td>2.105944</td>\n",
       "      <td>temperature</td>\n",
       "      <td>robotsensor</td>\n",
       "      <td>robotcell</td>\n",
       "    </tr>\n",
       "    <tr>\n",
       "      <th>24</th>\n",
       "      <td>_result</td>\n",
       "      <td>1</td>\n",
       "      <td>2024-02-19 13:25:39.197821+00:00</td>\n",
       "      <td>2024-02-19 13:45:39.197821+00:00</td>\n",
       "      <td>2024-02-19 13:26:50.193550+00:00</td>\n",
       "      <td>8.377131</td>\n",
       "      <td>temperature</td>\n",
       "      <td>robotsensor</td>\n",
       "      <td>robotcell</td>\n",
       "    </tr>\n",
       "    <tr>\n",
       "      <th>25</th>\n",
       "      <td>_result</td>\n",
       "      <td>1</td>\n",
       "      <td>2024-02-19 13:25:39.197821+00:00</td>\n",
       "      <td>2024-02-19 13:45:39.197821+00:00</td>\n",
       "      <td>2024-02-19 13:26:51.194741+00:00</td>\n",
       "      <td>6.698047</td>\n",
       "      <td>temperature</td>\n",
       "      <td>robotsensor</td>\n",
       "      <td>robotcell</td>\n",
       "    </tr>\n",
       "    <tr>\n",
       "      <th>26</th>\n",
       "      <td>_result</td>\n",
       "      <td>1</td>\n",
       "      <td>2024-02-19 13:25:39.197821+00:00</td>\n",
       "      <td>2024-02-19 13:45:39.197821+00:00</td>\n",
       "      <td>2024-02-19 13:26:52.194095+00:00</td>\n",
       "      <td>3.090738</td>\n",
       "      <td>temperature</td>\n",
       "      <td>robotsensor</td>\n",
       "      <td>robotcell</td>\n",
       "    </tr>\n",
       "    <tr>\n",
       "      <th>27</th>\n",
       "      <td>_result</td>\n",
       "      <td>1</td>\n",
       "      <td>2024-02-19 13:25:39.197821+00:00</td>\n",
       "      <td>2024-02-19 13:45:39.197821+00:00</td>\n",
       "      <td>2024-02-19 13:27:55.238935+00:00</td>\n",
       "      <td>9.976302</td>\n",
       "      <td>temperature</td>\n",
       "      <td>robotsensor</td>\n",
       "      <td>robotcell</td>\n",
       "    </tr>\n",
       "    <tr>\n",
       "      <th>28</th>\n",
       "      <td>_result</td>\n",
       "      <td>1</td>\n",
       "      <td>2024-02-19 13:25:39.197821+00:00</td>\n",
       "      <td>2024-02-19 13:45:39.197821+00:00</td>\n",
       "      <td>2024-02-19 13:27:56.240042+00:00</td>\n",
       "      <td>6.111204</td>\n",
       "      <td>temperature</td>\n",
       "      <td>robotsensor</td>\n",
       "      <td>robotcell</td>\n",
       "    </tr>\n",
       "    <tr>\n",
       "      <th>29</th>\n",
       "      <td>_result</td>\n",
       "      <td>1</td>\n",
       "      <td>2024-02-19 13:25:39.197821+00:00</td>\n",
       "      <td>2024-02-19 13:45:39.197821+00:00</td>\n",
       "      <td>2024-02-19 13:27:57.241809+00:00</td>\n",
       "      <td>0.897468</td>\n",
       "      <td>temperature</td>\n",
       "      <td>robotsensor</td>\n",
       "      <td>robotcell</td>\n",
       "    </tr>\n",
       "    <tr>\n",
       "      <th>30</th>\n",
       "      <td>_result</td>\n",
       "      <td>1</td>\n",
       "      <td>2024-02-19 13:25:39.197821+00:00</td>\n",
       "      <td>2024-02-19 13:45:39.197821+00:00</td>\n",
       "      <td>2024-02-19 13:27:58.242740+00:00</td>\n",
       "      <td>0.447668</td>\n",
       "      <td>temperature</td>\n",
       "      <td>robotsensor</td>\n",
       "      <td>robotcell</td>\n",
       "    </tr>\n",
       "    <tr>\n",
       "      <th>31</th>\n",
       "      <td>_result</td>\n",
       "      <td>1</td>\n",
       "      <td>2024-02-19 13:25:39.197821+00:00</td>\n",
       "      <td>2024-02-19 13:45:39.197821+00:00</td>\n",
       "      <td>2024-02-19 13:27:59.243929+00:00</td>\n",
       "      <td>1.490571</td>\n",
       "      <td>temperature</td>\n",
       "      <td>robotsensor</td>\n",
       "      <td>robotcell</td>\n",
       "    </tr>\n",
       "    <tr>\n",
       "      <th>32</th>\n",
       "      <td>_result</td>\n",
       "      <td>1</td>\n",
       "      <td>2024-02-19 13:25:39.197821+00:00</td>\n",
       "      <td>2024-02-19 13:45:39.197821+00:00</td>\n",
       "      <td>2024-02-19 13:28:00.245220+00:00</td>\n",
       "      <td>8.604148</td>\n",
       "      <td>temperature</td>\n",
       "      <td>robotsensor</td>\n",
       "      <td>robotcell</td>\n",
       "    </tr>\n",
       "    <tr>\n",
       "      <th>33</th>\n",
       "      <td>_result</td>\n",
       "      <td>1</td>\n",
       "      <td>2024-02-19 13:25:39.197821+00:00</td>\n",
       "      <td>2024-02-19 13:45:39.197821+00:00</td>\n",
       "      <td>2024-02-19 13:28:01.246248+00:00</td>\n",
       "      <td>8.798868</td>\n",
       "      <td>temperature</td>\n",
       "      <td>robotsensor</td>\n",
       "      <td>robotcell</td>\n",
       "    </tr>\n",
       "    <tr>\n",
       "      <th>34</th>\n",
       "      <td>_result</td>\n",
       "      <td>1</td>\n",
       "      <td>2024-02-19 13:25:39.197821+00:00</td>\n",
       "      <td>2024-02-19 13:45:39.197821+00:00</td>\n",
       "      <td>2024-02-19 13:28:02.248247+00:00</td>\n",
       "      <td>5.391633</td>\n",
       "      <td>temperature</td>\n",
       "      <td>robotsensor</td>\n",
       "      <td>robotcell</td>\n",
       "    </tr>\n",
       "    <tr>\n",
       "      <th>35</th>\n",
       "      <td>_result</td>\n",
       "      <td>1</td>\n",
       "      <td>2024-02-19 13:25:39.197821+00:00</td>\n",
       "      <td>2024-02-19 13:45:39.197821+00:00</td>\n",
       "      <td>2024-02-19 13:28:03.249015+00:00</td>\n",
       "      <td>1.032894</td>\n",
       "      <td>temperature</td>\n",
       "      <td>robotsensor</td>\n",
       "      <td>robotcell</td>\n",
       "    </tr>\n",
       "  </tbody>\n",
       "</table>\n",
       "</div>"
      ],
      "text/plain": [
       "     result  table                           _start  \\\n",
       "0   _result      0 2024-02-19 13:25:39.197821+00:00   \n",
       "1   _result      0 2024-02-19 13:25:39.197821+00:00   \n",
       "2   _result      0 2024-02-19 13:25:39.197821+00:00   \n",
       "3   _result      0 2024-02-19 13:25:39.197821+00:00   \n",
       "4   _result      0 2024-02-19 13:25:39.197821+00:00   \n",
       "5   _result      0 2024-02-19 13:25:39.197821+00:00   \n",
       "6   _result      0 2024-02-19 13:25:39.197821+00:00   \n",
       "7   _result      0 2024-02-19 13:25:39.197821+00:00   \n",
       "8   _result      0 2024-02-19 13:25:39.197821+00:00   \n",
       "9   _result      0 2024-02-19 13:25:39.197821+00:00   \n",
       "10  _result      0 2024-02-19 13:25:39.197821+00:00   \n",
       "11  _result      0 2024-02-19 13:25:39.197821+00:00   \n",
       "12  _result      0 2024-02-19 13:25:39.197821+00:00   \n",
       "13  _result      0 2024-02-19 13:25:39.197821+00:00   \n",
       "14  _result      0 2024-02-19 13:25:39.197821+00:00   \n",
       "15  _result      0 2024-02-19 13:25:39.197821+00:00   \n",
       "16  _result      0 2024-02-19 13:25:39.197821+00:00   \n",
       "17  _result      0 2024-02-19 13:25:39.197821+00:00   \n",
       "18  _result      1 2024-02-19 13:25:39.197821+00:00   \n",
       "19  _result      1 2024-02-19 13:25:39.197821+00:00   \n",
       "20  _result      1 2024-02-19 13:25:39.197821+00:00   \n",
       "21  _result      1 2024-02-19 13:25:39.197821+00:00   \n",
       "22  _result      1 2024-02-19 13:25:39.197821+00:00   \n",
       "23  _result      1 2024-02-19 13:25:39.197821+00:00   \n",
       "24  _result      1 2024-02-19 13:25:39.197821+00:00   \n",
       "25  _result      1 2024-02-19 13:25:39.197821+00:00   \n",
       "26  _result      1 2024-02-19 13:25:39.197821+00:00   \n",
       "27  _result      1 2024-02-19 13:25:39.197821+00:00   \n",
       "28  _result      1 2024-02-19 13:25:39.197821+00:00   \n",
       "29  _result      1 2024-02-19 13:25:39.197821+00:00   \n",
       "30  _result      1 2024-02-19 13:25:39.197821+00:00   \n",
       "31  _result      1 2024-02-19 13:25:39.197821+00:00   \n",
       "32  _result      1 2024-02-19 13:25:39.197821+00:00   \n",
       "33  _result      1 2024-02-19 13:25:39.197821+00:00   \n",
       "34  _result      1 2024-02-19 13:25:39.197821+00:00   \n",
       "35  _result      1 2024-02-19 13:25:39.197821+00:00   \n",
       "\n",
       "                              _stop                            _time  \\\n",
       "0  2024-02-19 13:45:39.197821+00:00 2024-02-19 13:26:44.185761+00:00   \n",
       "1  2024-02-19 13:45:39.197821+00:00 2024-02-19 13:26:45.186627+00:00   \n",
       "2  2024-02-19 13:45:39.197821+00:00 2024-02-19 13:26:46.188060+00:00   \n",
       "3  2024-02-19 13:45:39.197821+00:00 2024-02-19 13:26:47.189257+00:00   \n",
       "4  2024-02-19 13:45:39.197821+00:00 2024-02-19 13:26:48.190149+00:00   \n",
       "5  2024-02-19 13:45:39.197821+00:00 2024-02-19 13:26:49.191433+00:00   \n",
       "6  2024-02-19 13:45:39.197821+00:00 2024-02-19 13:26:50.193550+00:00   \n",
       "7  2024-02-19 13:45:39.197821+00:00 2024-02-19 13:26:51.194741+00:00   \n",
       "8  2024-02-19 13:45:39.197821+00:00 2024-02-19 13:26:52.194095+00:00   \n",
       "9  2024-02-19 13:45:39.197821+00:00 2024-02-19 13:27:55.238935+00:00   \n",
       "10 2024-02-19 13:45:39.197821+00:00 2024-02-19 13:27:56.240042+00:00   \n",
       "11 2024-02-19 13:45:39.197821+00:00 2024-02-19 13:27:57.241809+00:00   \n",
       "12 2024-02-19 13:45:39.197821+00:00 2024-02-19 13:27:58.242740+00:00   \n",
       "13 2024-02-19 13:45:39.197821+00:00 2024-02-19 13:27:59.243929+00:00   \n",
       "14 2024-02-19 13:45:39.197821+00:00 2024-02-19 13:28:00.245220+00:00   \n",
       "15 2024-02-19 13:45:39.197821+00:00 2024-02-19 13:28:01.246248+00:00   \n",
       "16 2024-02-19 13:45:39.197821+00:00 2024-02-19 13:28:02.248247+00:00   \n",
       "17 2024-02-19 13:45:39.197821+00:00 2024-02-19 13:28:03.249015+00:00   \n",
       "18 2024-02-19 13:45:39.197821+00:00 2024-02-19 13:26:44.185761+00:00   \n",
       "19 2024-02-19 13:45:39.197821+00:00 2024-02-19 13:26:45.186627+00:00   \n",
       "20 2024-02-19 13:45:39.197821+00:00 2024-02-19 13:26:46.188060+00:00   \n",
       "21 2024-02-19 13:45:39.197821+00:00 2024-02-19 13:26:47.189257+00:00   \n",
       "22 2024-02-19 13:45:39.197821+00:00 2024-02-19 13:26:48.190149+00:00   \n",
       "23 2024-02-19 13:45:39.197821+00:00 2024-02-19 13:26:49.191433+00:00   \n",
       "24 2024-02-19 13:45:39.197821+00:00 2024-02-19 13:26:50.193550+00:00   \n",
       "25 2024-02-19 13:45:39.197821+00:00 2024-02-19 13:26:51.194741+00:00   \n",
       "26 2024-02-19 13:45:39.197821+00:00 2024-02-19 13:26:52.194095+00:00   \n",
       "27 2024-02-19 13:45:39.197821+00:00 2024-02-19 13:27:55.238935+00:00   \n",
       "28 2024-02-19 13:45:39.197821+00:00 2024-02-19 13:27:56.240042+00:00   \n",
       "29 2024-02-19 13:45:39.197821+00:00 2024-02-19 13:27:57.241809+00:00   \n",
       "30 2024-02-19 13:45:39.197821+00:00 2024-02-19 13:27:58.242740+00:00   \n",
       "31 2024-02-19 13:45:39.197821+00:00 2024-02-19 13:27:59.243929+00:00   \n",
       "32 2024-02-19 13:45:39.197821+00:00 2024-02-19 13:28:00.245220+00:00   \n",
       "33 2024-02-19 13:45:39.197821+00:00 2024-02-19 13:28:01.246248+00:00   \n",
       "34 2024-02-19 13:45:39.197821+00:00 2024-02-19 13:28:02.248247+00:00   \n",
       "35 2024-02-19 13:45:39.197821+00:00 2024-02-19 13:28:03.249015+00:00   \n",
       "\n",
       "      _value       _field _measurement   location  \n",
       "0   0.544757     humidity  robotsensor  robotcell  \n",
       "1   0.798996     humidity  robotsensor  robotcell  \n",
       "2   0.399321     humidity  robotsensor  robotcell  \n",
       "3   0.330867     humidity  robotsensor  robotcell  \n",
       "4   0.828383     humidity  robotsensor  robotcell  \n",
       "5   0.637324     humidity  robotsensor  robotcell  \n",
       "6   0.132214     humidity  robotsensor  robotcell  \n",
       "7   0.237691     humidity  robotsensor  robotcell  \n",
       "8   0.362900     humidity  robotsensor  robotcell  \n",
       "9   0.300612     humidity  robotsensor  robotcell  \n",
       "10  0.507487     humidity  robotsensor  robotcell  \n",
       "11  0.862199     humidity  robotsensor  robotcell  \n",
       "12  0.376526     humidity  robotsensor  robotcell  \n",
       "13  0.240149     humidity  robotsensor  robotcell  \n",
       "14  0.481225     humidity  robotsensor  robotcell  \n",
       "15  0.505329     humidity  robotsensor  robotcell  \n",
       "16  0.951177     humidity  robotsensor  robotcell  \n",
       "17  0.810440     humidity  robotsensor  robotcell  \n",
       "18  7.984835  temperature  robotsensor  robotcell  \n",
       "19  1.491842  temperature  robotsensor  robotcell  \n",
       "20  2.005231  temperature  robotsensor  robotcell  \n",
       "21  2.971393  temperature  robotsensor  robotcell  \n",
       "22  4.077837  temperature  robotsensor  robotcell  \n",
       "23  2.105944  temperature  robotsensor  robotcell  \n",
       "24  8.377131  temperature  robotsensor  robotcell  \n",
       "25  6.698047  temperature  robotsensor  robotcell  \n",
       "26  3.090738  temperature  robotsensor  robotcell  \n",
       "27  9.976302  temperature  robotsensor  robotcell  \n",
       "28  6.111204  temperature  robotsensor  robotcell  \n",
       "29  0.897468  temperature  robotsensor  robotcell  \n",
       "30  0.447668  temperature  robotsensor  robotcell  \n",
       "31  1.490571  temperature  robotsensor  robotcell  \n",
       "32  8.604148  temperature  robotsensor  robotcell  \n",
       "33  8.798868  temperature  robotsensor  robotcell  \n",
       "34  5.391633  temperature  robotsensor  robotcell  \n",
       "35  1.032894  temperature  robotsensor  robotcell  "
      ]
     },
     "execution_count": 24,
     "metadata": {},
     "output_type": "execute_result"
    }
   ],
   "source": [
    "query_api.query_data_frame('from(bucket:\"myFirstBucket\") |> range(start: -20m)')[0]  #last 10 minutes"
   ]
  },
  {
   "cell_type": "code",
   "execution_count": null,
   "id": "3db4ef1b-6946-47c4-b967-39f7dc3978c0",
   "metadata": {},
   "outputs": [],
   "source": [
    "import warnings\n",
    "from influxdb_client.client.warnings import MissingPivotFunction\n",
    "\n",
    "warnings.simplefilter(\"ignore\", MissingPivotFunction)"
   ]
  },
  {
   "cell_type": "markdown",
   "id": "99c0e894-1023-4a47-9119-9079901570d8",
   "metadata": {},
   "source": [
    "We get a warning, that the representation might not be optimal and pivot should be used.\n",
    "\n",
    "For the examples discussed here, we will stick to the the current setup!\n",
    "\n",
    "https://docs.influxdata.com/flux/v0.x/stdlib/universe/pivot/\n"
   ]
  },
  {
   "cell_type": "markdown",
   "id": "f23ff033-6940-4d94-8e05-641f159d9cfc",
   "metadata": {},
   "source": [
    "## Task"
   ]
  },
  {
   "cell_type": "markdown",
   "id": "654663b7-7288-489e-b77f-2ac6409d3d99",
   "metadata": {},
   "source": [
    "Publish to a new measurement `robot` two fields `joint1` and `joint2` with arbitrary values."
   ]
  },
  {
   "cell_type": "code",
   "execution_count": 42,
   "id": "89d4881e",
   "metadata": {},
   "outputs": [],
   "source": [
    "# write_api.write(\"myFirstBucket\", \"primary\", [\"robot,mytag=value joint1=1, joint2=2\"])  #send data with tag\n",
    "# p = influxdb_client.Point(\"robot\").tag(\"location\", \"robotcell\").tag(\"qos\", \"2\").field(\"joint1\", 1).field(\"joint2\", 2)\n",
    "# write_api.write(bucket=\"myFirstBucket\", org=\"primary\", record=p)\n",
    "write_api.write(\"myFirstBucket\", \"primary\", [\"robot,location=robotcell joint1=11, joint2=22\"])  #send data with tag\n"
   ]
  },
  {
   "cell_type": "markdown",
   "id": "5a38d7ef-5481-47fd-88b9-46a7f8b7966c",
   "metadata": {},
   "source": [
    "## Queries"
   ]
  },
  {
   "cell_type": "markdown",
   "id": "cb87c1b5-0106-480f-a82b-76c3dd63aef3",
   "metadata": {},
   "source": [
    "Often, we want to make a query more `re-useable` and so we can distinguish between params and values!"
   ]
  },
  {
   "cell_type": "code",
   "execution_count": 43,
   "id": "547ddb32-2d41-415d-a7b6-82a464815354",
   "metadata": {
    "tags": []
   },
   "outputs": [],
   "source": [
    "q = '''\n",
    "    from(bucket: stringParam)\n",
    "      |> range(start: -225m, stop: now())\n",
    "      |> filter(fn: (r) => r._measurement == \"myMeasurement\")\n",
    "'''\n",
    "\n",
    "p = {\n",
    "    \"stringParam\": \"myFirstBucket\",\n",
    "}\n",
    "\n"
   ]
  },
  {
   "cell_type": "code",
   "execution_count": 44,
   "id": "0b838937-35fc-408d-8ec4-dec3316d6915",
   "metadata": {},
   "outputs": [],
   "source": [
    "result = query_api.query_data_frame(query=q, params=p)"
   ]
  },
  {
   "cell_type": "code",
   "execution_count": 45,
   "id": "fccdf39d-f9da-4bc8-9cbd-8597c5719b7d",
   "metadata": {},
   "outputs": [
    {
     "data": {
      "text/html": [
       "<div>\n",
       "<style scoped>\n",
       "    .dataframe tbody tr th:only-of-type {\n",
       "        vertical-align: middle;\n",
       "    }\n",
       "\n",
       "    .dataframe tbody tr th {\n",
       "        vertical-align: top;\n",
       "    }\n",
       "\n",
       "    .dataframe thead th {\n",
       "        text-align: right;\n",
       "    }\n",
       "</style>\n",
       "<table border=\"1\" class=\"dataframe\">\n",
       "  <thead>\n",
       "    <tr style=\"text-align: right;\">\n",
       "      <th></th>\n",
       "      <th>result</th>\n",
       "      <th>table</th>\n",
       "      <th>_start</th>\n",
       "      <th>_stop</th>\n",
       "      <th>_time</th>\n",
       "      <th>_value</th>\n",
       "      <th>_field</th>\n",
       "      <th>_measurement</th>\n",
       "      <th>location</th>\n",
       "    </tr>\n",
       "  </thead>\n",
       "  <tbody>\n",
       "    <tr>\n",
       "      <th>0</th>\n",
       "      <td>_result</td>\n",
       "      <td>0</td>\n",
       "      <td>2024-02-19 10:12:02.143289+00:00</td>\n",
       "      <td>2024-02-19 13:57:02.143289+00:00</td>\n",
       "      <td>2024-02-19 13:19:58.917314+00:00</td>\n",
       "      <td>11.4</td>\n",
       "      <td>water_level</td>\n",
       "      <td>myMeasurement</td>\n",
       "      <td>coyote_creek</td>\n",
       "    </tr>\n",
       "    <tr>\n",
       "      <th>1</th>\n",
       "      <td>_result</td>\n",
       "      <td>0</td>\n",
       "      <td>2024-02-19 10:12:02.143289+00:00</td>\n",
       "      <td>2024-02-19 13:57:02.143289+00:00</td>\n",
       "      <td>2024-02-19 13:21:26.973768+00:00</td>\n",
       "      <td>11.4</td>\n",
       "      <td>water_level</td>\n",
       "      <td>myMeasurement</td>\n",
       "      <td>coyote_creek</td>\n",
       "    </tr>\n",
       "  </tbody>\n",
       "</table>\n",
       "</div>"
      ],
      "text/plain": [
       "    result  table                           _start  \\\n",
       "0  _result      0 2024-02-19 10:12:02.143289+00:00   \n",
       "1  _result      0 2024-02-19 10:12:02.143289+00:00   \n",
       "\n",
       "                             _stop                            _time  _value  \\\n",
       "0 2024-02-19 13:57:02.143289+00:00 2024-02-19 13:19:58.917314+00:00    11.4   \n",
       "1 2024-02-19 13:57:02.143289+00:00 2024-02-19 13:21:26.973768+00:00    11.4   \n",
       "\n",
       "        _field   _measurement      location  \n",
       "0  water_level  myMeasurement  coyote_creek  \n",
       "1  water_level  myMeasurement  coyote_creek  "
      ]
     },
     "execution_count": 45,
     "metadata": {},
     "output_type": "execute_result"
    }
   ],
   "source": [
    "result[0]"
   ]
  },
  {
   "cell_type": "markdown",
   "id": "6f781d45-19e4-4456-a809-0e450091f5ee",
   "metadata": {},
   "source": [
    "The _start and _stop timestamps are the timestamps that corresponds with the range() portion of your query"
   ]
  },
  {
   "cell_type": "markdown",
   "id": "1be8e918-3a0d-4e65-a596-7da6482c82c0",
   "metadata": {},
   "source": [
    "We see, that if we write multiple messages at exactly the same time, they will be overwritten!"
   ]
  },
  {
   "cell_type": "code",
   "execution_count": 46,
   "id": "e50f39db-e971-4af5-88c9-48dd79b3b59c",
   "metadata": {},
   "outputs": [],
   "source": [
    "write_api.write(\"myFirstBucket\", \"primary\", [\"myMeasurement,location=coyote_creek water_level=4\"],write_precision=WritePrecision.MS)\n",
    "time.sleep(0.1)\n",
    "write_api.write(\"myFirstBucket\", \"primary\", [\"myMeasurement,location=coyote_creek water_level=2\"]) \n",
    "write_api.write(\"myFirstBucket\", \"primary\", [\"myMeasurement,location=coyote_creek water_level=3,temperature=9\"]) \n",
    "# if we have 2 points that have same data same time, the last one will be kept"
   ]
  },
  {
   "cell_type": "markdown",
   "id": "bcfd8341-15b6-4cd2-a9da-561663b66bb5",
   "metadata": {},
   "source": [
    "`For points that have the same measurement name, tag set, and timestamp, InfluxDB creates a union of the old and new field sets`"
   ]
  },
  {
   "cell_type": "code",
   "execution_count": 48,
   "id": "834f6d97-fa77-49f5-a59d-e0d9b52cda93",
   "metadata": {},
   "outputs": [
    {
     "data": {
      "text/html": [
       "<div>\n",
       "<style scoped>\n",
       "    .dataframe tbody tr th:only-of-type {\n",
       "        vertical-align: middle;\n",
       "    }\n",
       "\n",
       "    .dataframe tbody tr th {\n",
       "        vertical-align: top;\n",
       "    }\n",
       "\n",
       "    .dataframe thead th {\n",
       "        text-align: right;\n",
       "    }\n",
       "</style>\n",
       "<table border=\"1\" class=\"dataframe\">\n",
       "  <thead>\n",
       "    <tr style=\"text-align: right;\">\n",
       "      <th></th>\n",
       "      <th>result</th>\n",
       "      <th>table</th>\n",
       "      <th>_start</th>\n",
       "      <th>_stop</th>\n",
       "      <th>_time</th>\n",
       "      <th>_value</th>\n",
       "      <th>_field</th>\n",
       "      <th>_measurement</th>\n",
       "      <th>location</th>\n",
       "    </tr>\n",
       "  </thead>\n",
       "  <tbody>\n",
       "    <tr>\n",
       "      <th>0</th>\n",
       "      <td>_result</td>\n",
       "      <td>0</td>\n",
       "      <td>2024-02-19 13:47:14.017875+00:00</td>\n",
       "      <td>2024-02-19 13:57:14.017875+00:00</td>\n",
       "      <td>2024-02-19 13:57:06.495740+00:00</td>\n",
       "      <td>9.0</td>\n",
       "      <td>temperature</td>\n",
       "      <td>myMeasurement</td>\n",
       "      <td>coyote_creek</td>\n",
       "    </tr>\n",
       "    <tr>\n",
       "      <th>1</th>\n",
       "      <td>_result</td>\n",
       "      <td>1</td>\n",
       "      <td>2024-02-19 13:47:14.017875+00:00</td>\n",
       "      <td>2024-02-19 13:57:14.017875+00:00</td>\n",
       "      <td>2024-02-19 13:57:06.477000+00:00</td>\n",
       "      <td>4.0</td>\n",
       "      <td>water_level</td>\n",
       "      <td>myMeasurement</td>\n",
       "      <td>coyote_creek</td>\n",
       "    </tr>\n",
       "    <tr>\n",
       "      <th>2</th>\n",
       "      <td>_result</td>\n",
       "      <td>1</td>\n",
       "      <td>2024-02-19 13:47:14.017875+00:00</td>\n",
       "      <td>2024-02-19 13:57:14.017875+00:00</td>\n",
       "      <td>2024-02-19 13:57:06.495740+00:00</td>\n",
       "      <td>3.0</td>\n",
       "      <td>water_level</td>\n",
       "      <td>myMeasurement</td>\n",
       "      <td>coyote_creek</td>\n",
       "    </tr>\n",
       "    <tr>\n",
       "      <th>3</th>\n",
       "      <td>_result</td>\n",
       "      <td>1</td>\n",
       "      <td>2024-02-19 13:47:14.017875+00:00</td>\n",
       "      <td>2024-02-19 13:57:14.017875+00:00</td>\n",
       "      <td>2024-02-19 13:57:12.481857+00:00</td>\n",
       "      <td>4.0</td>\n",
       "      <td>water_level</td>\n",
       "      <td>myMeasurement</td>\n",
       "      <td>coyote_creek</td>\n",
       "    </tr>\n",
       "  </tbody>\n",
       "</table>\n",
       "</div>"
      ],
      "text/plain": [
       "    result  table                           _start  \\\n",
       "0  _result      0 2024-02-19 13:47:14.017875+00:00   \n",
       "1  _result      1 2024-02-19 13:47:14.017875+00:00   \n",
       "2  _result      1 2024-02-19 13:47:14.017875+00:00   \n",
       "3  _result      1 2024-02-19 13:47:14.017875+00:00   \n",
       "\n",
       "                             _stop                            _time  _value  \\\n",
       "0 2024-02-19 13:57:14.017875+00:00 2024-02-19 13:57:06.495740+00:00     9.0   \n",
       "1 2024-02-19 13:57:14.017875+00:00 2024-02-19 13:57:06.477000+00:00     4.0   \n",
       "2 2024-02-19 13:57:14.017875+00:00 2024-02-19 13:57:06.495740+00:00     3.0   \n",
       "3 2024-02-19 13:57:14.017875+00:00 2024-02-19 13:57:12.481857+00:00     4.0   \n",
       "\n",
       "        _field   _measurement      location  \n",
       "0  temperature  myMeasurement  coyote_creek  \n",
       "1  water_level  myMeasurement  coyote_creek  \n",
       "2  water_level  myMeasurement  coyote_creek  \n",
       "3  water_level  myMeasurement  coyote_creek  "
      ]
     },
     "execution_count": 48,
     "metadata": {},
     "output_type": "execute_result"
    }
   ],
   "source": [
    "tables=query_api.query_data_frame('from(bucket:\"myFirstBucket\") \\\n",
    "                                  |> range(start: -10m)  \\\n",
    "                                  |> filter(fn: (r) => r._measurement == \"myMeasurement\") \\\n",
    "                                  |> filter(fn: (r) => r.location == \"coyote_creek\") \\\n",
    "                                  ')  #last 10 minutes\n",
    "\n",
    "tables"
   ]
  },
  {
   "cell_type": "markdown",
   "id": "f8af5430-6680-4e95-81ba-f9189d42befd",
   "metadata": {},
   "source": [
    "However, if a tag is different, then we do not have that behaviour!"
   ]
  },
  {
   "cell_type": "code",
   "execution_count": 49,
   "id": "86b9e757-a949-4cae-b1a0-bb04f91c0a89",
   "metadata": {},
   "outputs": [],
   "source": [
    "write_api.write(\"myFirstBucket\", \"primary\", [\"myMeasurement,location=coyote_creek water_level=4\"])\n",
    "write_api.write(\"myFirstBucket\", \"primary\", [\"myMeasurement,location=other water_level=2\"]) "
   ]
  },
  {
   "cell_type": "code",
   "execution_count": 50,
   "id": "a4876366-3d8e-42bc-9404-c0bcf071bbe8",
   "metadata": {},
   "outputs": [
    {
     "data": {
      "text/html": [
       "<div>\n",
       "<style scoped>\n",
       "    .dataframe tbody tr th:only-of-type {\n",
       "        vertical-align: middle;\n",
       "    }\n",
       "\n",
       "    .dataframe tbody tr th {\n",
       "        vertical-align: top;\n",
       "    }\n",
       "\n",
       "    .dataframe thead th {\n",
       "        text-align: right;\n",
       "    }\n",
       "</style>\n",
       "<table border=\"1\" class=\"dataframe\">\n",
       "  <thead>\n",
       "    <tr style=\"text-align: right;\">\n",
       "      <th></th>\n",
       "      <th>result</th>\n",
       "      <th>table</th>\n",
       "      <th>_start</th>\n",
       "      <th>_stop</th>\n",
       "      <th>_time</th>\n",
       "      <th>_value</th>\n",
       "      <th>_field</th>\n",
       "      <th>_measurement</th>\n",
       "      <th>location</th>\n",
       "    </tr>\n",
       "  </thead>\n",
       "  <tbody>\n",
       "    <tr>\n",
       "      <th>0</th>\n",
       "      <td>_result</td>\n",
       "      <td>0</td>\n",
       "      <td>2024-02-19 13:56:17.115470+00:00</td>\n",
       "      <td>2024-02-19 13:57:17.115470+00:00</td>\n",
       "      <td>2024-02-19 13:57:06.495740+00:00</td>\n",
       "      <td>9.0</td>\n",
       "      <td>temperature</td>\n",
       "      <td>myMeasurement</td>\n",
       "      <td>coyote_creek</td>\n",
       "    </tr>\n",
       "    <tr>\n",
       "      <th>1</th>\n",
       "      <td>_result</td>\n",
       "      <td>1</td>\n",
       "      <td>2024-02-19 13:56:17.115470+00:00</td>\n",
       "      <td>2024-02-19 13:57:17.115470+00:00</td>\n",
       "      <td>2024-02-19 13:57:06.477000+00:00</td>\n",
       "      <td>4.0</td>\n",
       "      <td>water_level</td>\n",
       "      <td>myMeasurement</td>\n",
       "      <td>coyote_creek</td>\n",
       "    </tr>\n",
       "    <tr>\n",
       "      <th>2</th>\n",
       "      <td>_result</td>\n",
       "      <td>1</td>\n",
       "      <td>2024-02-19 13:56:17.115470+00:00</td>\n",
       "      <td>2024-02-19 13:57:17.115470+00:00</td>\n",
       "      <td>2024-02-19 13:57:06.495740+00:00</td>\n",
       "      <td>3.0</td>\n",
       "      <td>water_level</td>\n",
       "      <td>myMeasurement</td>\n",
       "      <td>coyote_creek</td>\n",
       "    </tr>\n",
       "    <tr>\n",
       "      <th>3</th>\n",
       "      <td>_result</td>\n",
       "      <td>1</td>\n",
       "      <td>2024-02-19 13:56:17.115470+00:00</td>\n",
       "      <td>2024-02-19 13:57:17.115470+00:00</td>\n",
       "      <td>2024-02-19 13:57:12.481857+00:00</td>\n",
       "      <td>4.0</td>\n",
       "      <td>water_level</td>\n",
       "      <td>myMeasurement</td>\n",
       "      <td>coyote_creek</td>\n",
       "    </tr>\n",
       "    <tr>\n",
       "      <th>4</th>\n",
       "      <td>_result</td>\n",
       "      <td>1</td>\n",
       "      <td>2024-02-19 13:56:17.115470+00:00</td>\n",
       "      <td>2024-02-19 13:57:17.115470+00:00</td>\n",
       "      <td>2024-02-19 13:57:15.484158+00:00</td>\n",
       "      <td>4.0</td>\n",
       "      <td>water_level</td>\n",
       "      <td>myMeasurement</td>\n",
       "      <td>coyote_creek</td>\n",
       "    </tr>\n",
       "    <tr>\n",
       "      <th>5</th>\n",
       "      <td>_result</td>\n",
       "      <td>2</td>\n",
       "      <td>2024-02-19 13:56:17.115470+00:00</td>\n",
       "      <td>2024-02-19 13:57:17.115470+00:00</td>\n",
       "      <td>2024-02-19 13:57:12.481857+00:00</td>\n",
       "      <td>2.0</td>\n",
       "      <td>water_level</td>\n",
       "      <td>myMeasurement</td>\n",
       "      <td>other</td>\n",
       "    </tr>\n",
       "    <tr>\n",
       "      <th>6</th>\n",
       "      <td>_result</td>\n",
       "      <td>2</td>\n",
       "      <td>2024-02-19 13:56:17.115470+00:00</td>\n",
       "      <td>2024-02-19 13:57:17.115470+00:00</td>\n",
       "      <td>2024-02-19 13:57:15.484158+00:00</td>\n",
       "      <td>2.0</td>\n",
       "      <td>water_level</td>\n",
       "      <td>myMeasurement</td>\n",
       "      <td>other</td>\n",
       "    </tr>\n",
       "  </tbody>\n",
       "</table>\n",
       "</div>"
      ],
      "text/plain": [
       "    result  table                           _start  \\\n",
       "0  _result      0 2024-02-19 13:56:17.115470+00:00   \n",
       "1  _result      1 2024-02-19 13:56:17.115470+00:00   \n",
       "2  _result      1 2024-02-19 13:56:17.115470+00:00   \n",
       "3  _result      1 2024-02-19 13:56:17.115470+00:00   \n",
       "4  _result      1 2024-02-19 13:56:17.115470+00:00   \n",
       "5  _result      2 2024-02-19 13:56:17.115470+00:00   \n",
       "6  _result      2 2024-02-19 13:56:17.115470+00:00   \n",
       "\n",
       "                             _stop                            _time  _value  \\\n",
       "0 2024-02-19 13:57:17.115470+00:00 2024-02-19 13:57:06.495740+00:00     9.0   \n",
       "1 2024-02-19 13:57:17.115470+00:00 2024-02-19 13:57:06.477000+00:00     4.0   \n",
       "2 2024-02-19 13:57:17.115470+00:00 2024-02-19 13:57:06.495740+00:00     3.0   \n",
       "3 2024-02-19 13:57:17.115470+00:00 2024-02-19 13:57:12.481857+00:00     4.0   \n",
       "4 2024-02-19 13:57:17.115470+00:00 2024-02-19 13:57:15.484158+00:00     4.0   \n",
       "5 2024-02-19 13:57:17.115470+00:00 2024-02-19 13:57:12.481857+00:00     2.0   \n",
       "6 2024-02-19 13:57:17.115470+00:00 2024-02-19 13:57:15.484158+00:00     2.0   \n",
       "\n",
       "        _field   _measurement      location  \n",
       "0  temperature  myMeasurement  coyote_creek  \n",
       "1  water_level  myMeasurement  coyote_creek  \n",
       "2  water_level  myMeasurement  coyote_creek  \n",
       "3  water_level  myMeasurement  coyote_creek  \n",
       "4  water_level  myMeasurement  coyote_creek  \n",
       "5  water_level  myMeasurement         other  \n",
       "6  water_level  myMeasurement         other  "
      ]
     },
     "execution_count": 50,
     "metadata": {},
     "output_type": "execute_result"
    }
   ],
   "source": [
    "tables=query_api.query_data_frame('from(bucket:\"myFirstBucket\") |> range(start: -1m)  \\\n",
    "                                  |> filter(fn: (r) => r._measurement == \"myMeasurement\") \\\n",
    "                                  ')  #last 10 minutes\n",
    "\n",
    "tables"
   ]
  },
  {
   "cell_type": "markdown",
   "id": "9d582813-b2a4-4915-b21f-65d52e83c071",
   "metadata": {},
   "source": [
    "**More Complex Query**"
   ]
  },
  {
   "cell_type": "markdown",
   "id": "6bd9e99e-c846-46e1-9cf2-c15412a0f9df",
   "metadata": {},
   "source": [
    "With keep you can limit the number of fields - `keep` is similar to `select` in SQL"
   ]
  },
  {
   "cell_type": "code",
   "execution_count": null,
   "id": "f5e7699a-cd88-464a-9457-f85fba98085e",
   "metadata": {},
   "outputs": [],
   "source": [
    "tables=query_api.query_data_frame(\"\"\"\n",
    "                        from(bucket:\"myFirstBucket\") \n",
    "                        |> range(start: -2135m) \n",
    "                        |> filter(fn: (r) => r._measurement == \"myMeasurement\")\n",
    "                        |> filter(fn: (r) => r._field == \"temperature\")\n",
    "                        |> keep(columns:[\"_value\"])\n",
    "                        \"\"\")  \n",
    "\n",
    "tables"
   ]
  },
  {
   "cell_type": "code",
   "execution_count": null,
   "id": "68233bb5-5f4a-4463-a22e-b45105ede258",
   "metadata": {},
   "outputs": [],
   "source": [
    "tables=query_api.query_data_frame(\"\"\"\n",
    "                        from(bucket:\"myFirstBucket\") \n",
    "                        |> range(start: -215m) \n",
    "                        |> filter(fn: (r) => r._measurement == \"robotsensor\")\n",
    "                        |> filter(fn: (r) => r._field == \"temperature\")\n",
    "                        \"\"\")  "
   ]
  },
  {
   "cell_type": "markdown",
   "id": "2d4b0b81-4aac-4056-9599-a307481af0bc",
   "metadata": {},
   "source": [
    "Joins are also existing!"
   ]
  },
  {
   "cell_type": "code",
   "execution_count": null,
   "id": "eada6751-ab93-4fd4-bc15-82c493fa6cfb",
   "metadata": {},
   "outputs": [],
   "source": [
    "tables=query_api.query_data_frame(\"\"\"\n",
    "                        mymeasure=from(bucket:\"myFirstBucket\") \n",
    "                        |> range(start: -215m) \n",
    "                        |> filter(fn: (r) => r._measurement == \"myMeasurement\")\n",
    "                        |> filter(fn: (r) => r._field == \"temperature\")\n",
    "\n",
    "                        robotsensor=from(bucket:\"myFirstBucket\") \n",
    "                        |> range(start: -215m) \n",
    "                        |> filter(fn: (r) => r._measurement == \"robotsensor\")\n",
    "                        |> filter(fn: (r) => r._field == \"temperature\")\n",
    "                        \n",
    "                        \n",
    "                        join(tables: {mymeasure:mymeasure, robotsensor:robotsensor}, on: [\"_field\"], method: \"inner\")\n",
    "                        \"\"\")  \n",
    "\n",
    "tables[0]"
   ]
  },
  {
   "cell_type": "markdown",
   "id": "177604c2-8931-4ecb-a53e-599feaee09b4",
   "metadata": {},
   "source": [
    "Filtering for tags is also possible!"
   ]
  },
  {
   "cell_type": "code",
   "execution_count": null,
   "id": "67979c12-2014-4784-9523-1f8c5dca0fb5",
   "metadata": {},
   "outputs": [],
   "source": [
    "tables=query_api.query_data_frame(\"\"\"\n",
    "                        from(bucket:\"myFirstBucket\") \n",
    "                        |> range(start: -2135m) \n",
    "                        |> filter(fn: (r) => r._measurement == \"myMeasurement\")\n",
    "                        |> filter(fn: (r) => r.mytag == \"a_tag_value\")\n",
    "                        \"\"\")  \n",
    "\n",
    "tables"
   ]
  },
  {
   "cell_type": "markdown",
   "id": "f03525c7-47fb-4fc6-a524-1791fc1a2783",
   "metadata": {},
   "source": [
    "We can also create bins!"
   ]
  },
  {
   "cell_type": "code",
   "execution_count": null,
   "id": "3d416329-6baf-428d-9138-c53b476ba376",
   "metadata": {},
   "outputs": [],
   "source": [
    "my_query=\"\"\"from(bucket:\"myFirstBucket\") \n",
    "                        |> range(start: -2135m) \n",
    "                        |> filter(fn: (r) => r._measurement == \"myMeasurement\")\n",
    "                        |> filter(fn: (r) => r._field == \"temperature\")\n",
    "                        |> filter(fn: (r) => r.mytag == \"a_tag_value\")\n",
    "                        |> histogram(\n",
    "                            column: \"_value\",\n",
    "                            upperBoundColumn: \"le\",\n",
    "                            countColumn: \"_value\",\n",
    "                            bins: [100.0, 200.0, 300.0, 400.0],\n",
    "                          )\n",
    "                        \"\"\""
   ]
  },
  {
   "cell_type": "code",
   "execution_count": null,
   "id": "73a03b73-c6b7-4873-9ec8-1747465d443d",
   "metadata": {},
   "outputs": [],
   "source": [
    "query_api.query_data_frame(org=\"primary\",query=my_query)"
   ]
  },
  {
   "cell_type": "markdown",
   "id": "4040fb12-7ffd-4020-8b5a-c8445909fbde",
   "metadata": {},
   "source": [
    "cumulative distribution - `_value`"
   ]
  },
  {
   "cell_type": "markdown",
   "id": "211eab48-1866-4a56-b709-e02adc6edfaf",
   "metadata": {},
   "source": [
    "**Moving Average**"
   ]
  },
  {
   "cell_type": "code",
   "execution_count": null,
   "id": "25a62201-dec9-433f-aa32-751e89b3fceb",
   "metadata": {},
   "outputs": [],
   "source": [
    "tables=query_api.query_data_frame(\"\"\"from(bucket:\"myFirstBucket\") \n",
    "                        |> range(start: -4435m) \n",
    "                        |> filter(fn: (r) => r._measurement == \"myMeasurement\")\n",
    "                        |> filter(fn: (r) => r._field == \"temperature\")\n",
    "                        |> movingAverage(n:5)\n",
    "                        \"\"\")\n",
    "\n",
    "tables[3]"
   ]
  },
  {
   "cell_type": "markdown",
   "id": "f2bec00c-14ad-49cd-b4e3-16ac99ae6f6a",
   "metadata": {},
   "source": [
    "movingAverage() calculates the mean of non-null values using the current value and n - 1 previous values in the _values column."
   ]
  },
  {
   "cell_type": "code",
   "execution_count": null,
   "id": "a3dd835e-03b8-489b-bdf2-6d1f62a1adc1",
   "metadata": {},
   "outputs": [],
   "source": [
    "write_api.write(\"myFirstBucket\", \"primary\", [\"myMeasurement,mytag=a_tag_value temperature=4\"])"
   ]
  },
  {
   "cell_type": "markdown",
   "id": "9715c95f-7cce-477d-b2a3-3526c628dc31",
   "metadata": {},
   "source": [
    "## Super-Simple Exercises"
   ]
  },
  {
   "cell_type": "markdown",
   "id": "884dbb42-2dac-468e-b161-519c1921b7db",
   "metadata": {},
   "source": [
    "What does `fill` do?"
   ]
  },
  {
   "cell_type": "markdown",
   "id": "16ca86c0-dbad-4167-b131-74f995429470",
   "metadata": {},
   "source": [
    "What does `group` do?"
   ]
  },
  {
   "cell_type": "code",
   "execution_count": null,
   "id": "44a1d57d-bc09-4019-8f04-2f15f0819182",
   "metadata": {},
   "outputs": [],
   "source": [
    "# example with group\n",
    "write_api.write(\"myFirstBucket\", \"primary\", [\"myMeasurement,location=coyote_creek temperature=12\"]) \n"
   ]
  },
  {
   "cell_type": "code",
   "execution_count": null,
   "id": "9a0803a1-e61b-42bd-a65b-75436a43f00d",
   "metadata": {},
   "outputs": [],
   "source": [
    "write_api.write(\"myFirstBucket\", \"primary\", [\"myMeasurement,location=other temperature=15\"]) \n"
   ]
  },
  {
   "cell_type": "code",
   "execution_count": null,
   "id": "271646f3-c688-44eb-b578-e78e2fcf4c85",
   "metadata": {},
   "outputs": [],
   "source": [
    "write_api.write(\"myFirstBucket\", \"primary\", [\"myMeasurement,location=coyote_creek temperature=17\"]) \n"
   ]
  },
  {
   "cell_type": "code",
   "execution_count": null,
   "id": "cdd55b00-5fa6-489d-8ff6-354df93b487a",
   "metadata": {},
   "outputs": [],
   "source": [
    "write_api.write(\"myFirstBucket\", \"primary\", [\"myMeasurement,location=coyote_creek temperature=9\"]) "
   ]
  },
  {
   "cell_type": "code",
   "execution_count": null,
   "id": "042d0c5f-d13d-438c-a556-56362433eb1f",
   "metadata": {},
   "outputs": [],
   "source": [
    "tables=query_api.query_data_frame(\"\"\"from(bucket:\"myFirstBucket\") \n",
    "                        |> range(start: -5m) \n",
    "                        |> filter(fn: (r) => r._measurement == \"myMeasurement\")\n",
    "                        |> filter(fn: (r) => r._field == \"temperature\")\n",
    "                        \"\"\")\n",
    "\n",
    "tables #raw data"
   ]
  },
  {
   "cell_type": "code",
   "execution_count": null,
   "id": "2302f059-69bf-40f4-adff-5b560d4da91b",
   "metadata": {},
   "outputs": [],
   "source": [
    "tables=query_api.query_data_frame(\"\"\"from(bucket:\"myFirstBucket\") \n",
    "                        |> range(start: -5m) \n",
    "                        |> filter(fn: (r) => r._measurement == \"myMeasurement\")\n",
    "                        |> filter(fn: (r) => r._field == \"temperature\")\n",
    "                        |> group(columns: [\"location\"])\n",
    "                        |> mean()\n",
    "                        \"\"\")\n",
    "\n",
    "tables"
   ]
  },
  {
   "cell_type": "code",
   "execution_count": null,
   "id": "88a35e90-8583-484f-b83c-7de176c320eb",
   "metadata": {},
   "outputs": [],
   "source": [
    "#now, lets make a group by - having construct\n",
    "\n",
    "tables=query_api.query_data_frame(\"\"\"from(bucket:\"myFirstBucket\") \n",
    "                        |> range(start: -8m) \n",
    "                        |> filter(fn: (r) => r._measurement == \"myMeasurement\")\n",
    "                        |> filter(fn: (r) => r._field == \"temperature\")\n",
    "                        |> group(columns: [\"location\"])\n",
    "                        |> count()\n",
    "                        |> filter(fn: (r) => r._value>1)\n",
    "                        \"\"\")\n",
    "\n",
    "tables"
   ]
  },
  {
   "cell_type": "markdown",
   "id": "4308df1b-66a8-4fc1-9ce0-5d951b581eba",
   "metadata": {},
   "source": [
    "## Query Exercises"
   ]
  },
  {
   "cell_type": "markdown",
   "id": "898e6b3e-e396-45a6-bb69-3d22c06ff710",
   "metadata": {},
   "source": [
    "Write a Query that gets only the mean of the field `temperature`, ignore data older than 5 minutes. The aggregtion should ignore tags (drop)!"
   ]
  },
  {
   "cell_type": "code",
   "execution_count": 55,
   "id": "d0875d4f-780c-436f-8801-89071225f4eb",
   "metadata": {},
   "outputs": [],
   "source": [
    "mean_last_5m = query_api.query_data_frame(\"\"\"\n",
    "    from (bucket:\"myFirstBucket\")\n",
    "        |> range(start: -5m)\n",
    "        |> filter(fn: (r) => r._measurement == \"myMeasurement\")\n",
    "        |> filter(fn: (r) => r._field == \"temperature\")\n",
    "        |> drop(columns:[\"my_tag\"])\n",
    "        |> mean()\n",
    "\"\"\")"
   ]
  },
  {
   "cell_type": "code",
   "execution_count": 56,
   "id": "cd507cf2",
   "metadata": {},
   "outputs": [
    {
     "data": {
      "text/html": [
       "<div>\n",
       "<style scoped>\n",
       "    .dataframe tbody tr th:only-of-type {\n",
       "        vertical-align: middle;\n",
       "    }\n",
       "\n",
       "    .dataframe tbody tr th {\n",
       "        vertical-align: top;\n",
       "    }\n",
       "\n",
       "    .dataframe thead th {\n",
       "        text-align: right;\n",
       "    }\n",
       "</style>\n",
       "<table border=\"1\" class=\"dataframe\">\n",
       "  <thead>\n",
       "    <tr style=\"text-align: right;\">\n",
       "      <th></th>\n",
       "    </tr>\n",
       "  </thead>\n",
       "  <tbody>\n",
       "  </tbody>\n",
       "</table>\n",
       "</div>"
      ],
      "text/plain": [
       "Empty DataFrame\n",
       "Columns: []\n",
       "Index: []"
      ]
     },
     "execution_count": 56,
     "metadata": {},
     "output_type": "execute_result"
    }
   ],
   "source": [
    "mean_last_5m"
   ]
  },
  {
   "cell_type": "code",
   "execution_count": null,
   "id": "aad55f38-deca-4bc9-b0ef-dd4a645b45fa",
   "metadata": {},
   "outputs": [],
   "source": [
    "tables[0]"
   ]
  },
  {
   "cell_type": "markdown",
   "id": "5a4d6766-e9e0-4b10-99f0-e827ca81b112",
   "metadata": {},
   "source": [
    "Write a query that gets 1-minute windows (`aggregateWindow(every: 1m, fn: mean)`) of the field `temperature`, ignore windows that have no values (hint: use `filter` with `exists r._value`)!"
   ]
  },
  {
   "cell_type": "code",
   "execution_count": null,
   "id": "694ef958-7046-4f08-8eed-53d3122a47af",
   "metadata": {},
   "outputs": [],
   "source": []
  },
  {
   "cell_type": "markdown",
   "id": "f991530e-874e-48ae-9082-11b0182b7d04",
   "metadata": {},
   "source": [
    "Find the `temperature` peak of the last 60 minutes. Hint: use `max`"
   ]
  },
  {
   "cell_type": "code",
   "execution_count": null,
   "id": "cc34c2c3-8c09-4824-a173-a19e918041d1",
   "metadata": {},
   "outputs": [],
   "source": []
  },
  {
   "cell_type": "markdown",
   "id": "2ca6ad40-108b-4ebe-898c-05fe62d0b1a2",
   "metadata": {},
   "source": [
    "Find the three highest `temperatures`. Hint use `top`"
   ]
  },
  {
   "cell_type": "code",
   "execution_count": null,
   "id": "29f08209-ac3e-4030-a3e0-2dfc421d808f",
   "metadata": {},
   "outputs": [],
   "source": []
  },
  {
   "cell_type": "markdown",
   "id": "ce88c431-3b62-4602-ae89-91958663aedc",
   "metadata": {},
   "source": [
    "Find the `water_level` value of the value with the highest `temperatures` (hint: use `join` with  `_time` as join attribute)."
   ]
  },
  {
   "cell_type": "code",
   "execution_count": null,
   "id": "651e731e-5828-4a1e-9816-2f58b2e62aef",
   "metadata": {},
   "outputs": [],
   "source": [
    "write_api.write(\"myFirstBucket\", \"primary\", [\"myMeasurement,mytag=a_tag_value temperature=49,water_level=12\"])"
   ]
  },
  {
   "cell_type": "code",
   "execution_count": null,
   "id": "49a671dc-d0c0-44d1-9140-3d44289f1e88",
   "metadata": {},
   "outputs": [],
   "source": []
  },
  {
   "cell_type": "markdown",
   "id": "7e256e04-d525-4e9a-b324-b5b2e5894677",
   "metadata": {},
   "source": [
    "Convert the temperature to Fahreinheit (hint use ` |> map(fn: (r) => ({ r with _value: (r._value*9./5.)+32.}))`:)"
   ]
  },
  {
   "cell_type": "code",
   "execution_count": null,
   "id": "c7b78492-98e1-423f-a464-8660d25741f7",
   "metadata": {},
   "outputs": [],
   "source": []
  },
  {
   "cell_type": "markdown",
   "id": "4c4166f2-747a-4315-beea-55106bf20ce2",
   "metadata": {},
   "source": [
    "Flux also supports `high-level` functions to create e.g. histograms"
   ]
  },
  {
   "cell_type": "code",
   "execution_count": null,
   "id": "76b6c7b3-6147-4186-bf05-67a543e43e3a",
   "metadata": {},
   "outputs": [],
   "source": []
  },
  {
   "cell_type": "markdown",
   "id": "aa8c9f87-2c2e-4afa-b30f-d723249894cd",
   "metadata": {},
   "source": [
    "# Exercise\n",
    "\n",
    "**A**\n",
    "\n",
    "Create two MQTT Clients: one publisher and one subscriber.\n",
    "The publiblisher should publish values in an infinite loop. The subscriber subscribes to that values and stores them to InfluxDB.\n",
    "\n",
    "\n",
    "**B**\n",
    "\n",
    "Design: how to treate different topics? How should the topic structure be represented in MQTT? Look e.g.h [here](https://github.com/mhaas/mqtt-to-influxdb-forwarder)\n",
    "\n",
    "Try to implement it!\n"
   ]
  },
  {
   "cell_type": "markdown",
   "id": "792880fb-9023-4f07-b7f3-092589224b74",
   "metadata": {},
   "source": [
    "# Grafana"
   ]
  },
  {
   "cell_type": "markdown",
   "id": "d82adf23-e0a6-49a8-a606-b07b054c8a59",
   "metadata": {},
   "source": [
    "Start with the following query\n",
    "\n",
    "```\n",
    "from(bucket: \"myFirstBucket\")\n",
    "  |> range(start: -1115m)\n",
    "  |> filter(fn: (r) =>\n",
    "    r._measurement == \"myMeasurement\" and\n",
    "    r._field == \"temperature\"\n",
    "  )\n",
    "```"
   ]
  },
  {
   "cell_type": "markdown",
   "id": "00e36da9-bcb6-49e9-8115-c80410b0afe4",
   "metadata": {},
   "source": [
    "add multiple queries to Grafana!"
   ]
  },
  {
   "cell_type": "markdown",
   "id": "22a7ee92-e1db-4510-9958-ad687dbb6d33",
   "metadata": {},
   "source": [
    "Create a bar gauge showing the max temperature values by each tag `location`. Therefore, use `|> filter(fn: (r) => exists r.location)` in the query"
   ]
  },
  {
   "cell_type": "markdown",
   "id": "d5f68eea-1527-4848-9077-38d6d4119aa5",
   "metadata": {},
   "source": [
    "Use Grafanas time range instead of range: `range(start: v.timeRangeStart, stop:v.timeRangeStop)`"
   ]
  }
 ],
 "metadata": {
  "kernelspec": {
   "display_name": "Python 3 (ipykernel)",
   "language": "python",
   "name": "python3"
  },
  "language_info": {
   "codemirror_mode": {
    "name": "ipython",
    "version": 3
   },
   "file_extension": ".py",
   "mimetype": "text/x-python",
   "name": "python",
   "nbconvert_exporter": "python",
   "pygments_lexer": "ipython3",
   "version": "3.11.6"
  }
 },
 "nbformat": 4,
 "nbformat_minor": 5
}
